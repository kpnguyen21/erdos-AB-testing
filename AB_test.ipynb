{
 "cells": [
  {
   "cell_type": "markdown",
   "id": "d6e7a62f-e503-4375-9415-9f7382fb70d2",
   "metadata": {},
   "source": [
    "# A/B test"
   ]
  },
  {
   "cell_type": "markdown",
   "id": "db7fdd22-74ab-4a2c-a744-7238f8071d5e",
   "metadata": {},
   "source": [
    "Perform an A/B test on the dataset AB_Test_Results.csv. This dataset is from [Kaggle](https://www.kaggle.com/datasets/sergylog/ab-test-data)."
   ]
  },
  {
   "cell_type": "markdown",
   "id": "f8d966c4-5ab8-4bd1-8602-a132d8018b87",
   "metadata": {},
   "source": [
    "## Import libraries"
   ]
  },
  {
   "cell_type": "code",
   "execution_count": 1,
   "id": "f0021176-912c-461c-83c9-e904ac5c0d3f",
   "metadata": {},
   "outputs": [],
   "source": [
    "import numpy as np\n",
    "import pandas as pd\n",
    "import matplotlib.pyplot as plt\n",
    "import seaborn as sns\n",
    "import sklearn\n",
    "from scipy import stats\n",
    "from scipy.stats import shapiro\n",
    "from scipy.stats import normaltest\n",
    "from scipy.stats import mannwhitneyu"
   ]
  },
  {
   "cell_type": "markdown",
   "id": "be4f8aa6-991d-473b-85fe-b497858aeba9",
   "metadata": {},
   "source": [
    "## Load data"
   ]
  },
  {
   "cell_type": "code",
   "execution_count": 2,
   "id": "3a27a5ee-5f19-4469-9b1b-251dcf780dc6",
   "metadata": {},
   "outputs": [
    {
     "data": {
      "text/html": [
       "<div>\n",
       "<style scoped>\n",
       "    .dataframe tbody tr th:only-of-type {\n",
       "        vertical-align: middle;\n",
       "    }\n",
       "\n",
       "    .dataframe tbody tr th {\n",
       "        vertical-align: top;\n",
       "    }\n",
       "\n",
       "    .dataframe thead th {\n",
       "        text-align: right;\n",
       "    }\n",
       "</style>\n",
       "<table border=\"1\" class=\"dataframe\">\n",
       "  <thead>\n",
       "    <tr style=\"text-align: right;\">\n",
       "      <th></th>\n",
       "      <th>USER_ID</th>\n",
       "      <th>VARIANT_NAME</th>\n",
       "      <th>REVENUE</th>\n",
       "    </tr>\n",
       "  </thead>\n",
       "  <tbody>\n",
       "    <tr>\n",
       "      <th>0</th>\n",
       "      <td>737</td>\n",
       "      <td>variant</td>\n",
       "      <td>0.0</td>\n",
       "    </tr>\n",
       "    <tr>\n",
       "      <th>1</th>\n",
       "      <td>2423</td>\n",
       "      <td>control</td>\n",
       "      <td>0.0</td>\n",
       "    </tr>\n",
       "    <tr>\n",
       "      <th>2</th>\n",
       "      <td>9411</td>\n",
       "      <td>control</td>\n",
       "      <td>0.0</td>\n",
       "    </tr>\n",
       "    <tr>\n",
       "      <th>3</th>\n",
       "      <td>7311</td>\n",
       "      <td>control</td>\n",
       "      <td>0.0</td>\n",
       "    </tr>\n",
       "    <tr>\n",
       "      <th>4</th>\n",
       "      <td>6174</td>\n",
       "      <td>variant</td>\n",
       "      <td>0.0</td>\n",
       "    </tr>\n",
       "  </tbody>\n",
       "</table>\n",
       "</div>"
      ],
      "text/plain": [
       "   USER_ID VARIANT_NAME  REVENUE\n",
       "0      737      variant      0.0\n",
       "1     2423      control      0.0\n",
       "2     9411      control      0.0\n",
       "3     7311      control      0.0\n",
       "4     6174      variant      0.0"
      ]
     },
     "execution_count": 2,
     "metadata": {},
     "output_type": "execute_result"
    }
   ],
   "source": [
    "df = pd.read_csv(\"Data/AB_Test_Results.csv\")\n",
    "df.head()"
   ]
  },
  {
   "cell_type": "markdown",
   "id": "bc0c862d-e462-4be8-96de-9722948f4f38",
   "metadata": {},
   "source": [
    "Create \"BUY\" column, 1 if \"REVENUE\" > 0, else 0."
   ]
  },
  {
   "cell_type": "code",
   "execution_count": 3,
   "id": "c2d018ce-b690-43a8-b971-3ef96b21f23b",
   "metadata": {},
   "outputs": [
    {
     "data": {
      "text/html": [
       "<div>\n",
       "<style scoped>\n",
       "    .dataframe tbody tr th:only-of-type {\n",
       "        vertical-align: middle;\n",
       "    }\n",
       "\n",
       "    .dataframe tbody tr th {\n",
       "        vertical-align: top;\n",
       "    }\n",
       "\n",
       "    .dataframe thead th {\n",
       "        text-align: right;\n",
       "    }\n",
       "</style>\n",
       "<table border=\"1\" class=\"dataframe\">\n",
       "  <thead>\n",
       "    <tr style=\"text-align: right;\">\n",
       "      <th></th>\n",
       "      <th>USER_ID</th>\n",
       "      <th>VARIANT_NAME</th>\n",
       "      <th>REVENUE</th>\n",
       "      <th>BUY</th>\n",
       "    </tr>\n",
       "  </thead>\n",
       "  <tbody>\n",
       "    <tr>\n",
       "      <th>0</th>\n",
       "      <td>737</td>\n",
       "      <td>variant</td>\n",
       "      <td>0.0</td>\n",
       "      <td>0</td>\n",
       "    </tr>\n",
       "    <tr>\n",
       "      <th>1</th>\n",
       "      <td>2423</td>\n",
       "      <td>control</td>\n",
       "      <td>0.0</td>\n",
       "      <td>0</td>\n",
       "    </tr>\n",
       "    <tr>\n",
       "      <th>2</th>\n",
       "      <td>9411</td>\n",
       "      <td>control</td>\n",
       "      <td>0.0</td>\n",
       "      <td>0</td>\n",
       "    </tr>\n",
       "    <tr>\n",
       "      <th>3</th>\n",
       "      <td>7311</td>\n",
       "      <td>control</td>\n",
       "      <td>0.0</td>\n",
       "      <td>0</td>\n",
       "    </tr>\n",
       "    <tr>\n",
       "      <th>4</th>\n",
       "      <td>6174</td>\n",
       "      <td>variant</td>\n",
       "      <td>0.0</td>\n",
       "      <td>0</td>\n",
       "    </tr>\n",
       "  </tbody>\n",
       "</table>\n",
       "</div>"
      ],
      "text/plain": [
       "   USER_ID VARIANT_NAME  REVENUE  BUY\n",
       "0      737      variant      0.0    0\n",
       "1     2423      control      0.0    0\n",
       "2     9411      control      0.0    0\n",
       "3     7311      control      0.0    0\n",
       "4     6174      variant      0.0    0"
      ]
     },
     "execution_count": 3,
     "metadata": {},
     "output_type": "execute_result"
    }
   ],
   "source": [
    "df['BUY'] = 1*(df.REVENUE > 0)\n",
    "df.head()"
   ]
  },
  {
   "cell_type": "markdown",
   "id": "158fb4c8-e73f-4e85-92b6-633e6ad625c8",
   "metadata": {},
   "source": [
    "## Sorting data"
   ]
  },
  {
   "cell_type": "code",
   "execution_count": 4,
   "id": "383979b4-483a-47d9-820b-b347ad3e4b31",
   "metadata": {},
   "outputs": [
    {
     "data": {
      "text/html": [
       "<div>\n",
       "<style scoped>\n",
       "    .dataframe tbody tr th:only-of-type {\n",
       "        vertical-align: middle;\n",
       "    }\n",
       "\n",
       "    .dataframe tbody tr th {\n",
       "        vertical-align: top;\n",
       "    }\n",
       "\n",
       "    .dataframe thead th {\n",
       "        text-align: right;\n",
       "    }\n",
       "</style>\n",
       "<table border=\"1\" class=\"dataframe\">\n",
       "  <thead>\n",
       "    <tr style=\"text-align: right;\">\n",
       "      <th></th>\n",
       "      <th>USER_ID</th>\n",
       "      <th>VARIANT_NAME</th>\n",
       "      <th>REVENUE</th>\n",
       "      <th>BUY</th>\n",
       "    </tr>\n",
       "  </thead>\n",
       "  <tbody>\n",
       "    <tr>\n",
       "      <th>2406</th>\n",
       "      <td>2</td>\n",
       "      <td>control</td>\n",
       "      <td>0.0</td>\n",
       "      <td>0</td>\n",
       "    </tr>\n",
       "    <tr>\n",
       "      <th>3479</th>\n",
       "      <td>2</td>\n",
       "      <td>control</td>\n",
       "      <td>0.0</td>\n",
       "      <td>0</td>\n",
       "    </tr>\n",
       "    <tr>\n",
       "      <th>7076</th>\n",
       "      <td>2</td>\n",
       "      <td>control</td>\n",
       "      <td>0.0</td>\n",
       "      <td>0</td>\n",
       "    </tr>\n",
       "    <tr>\n",
       "      <th>4145</th>\n",
       "      <td>3</td>\n",
       "      <td>variant</td>\n",
       "      <td>0.0</td>\n",
       "      <td>0</td>\n",
       "    </tr>\n",
       "    <tr>\n",
       "      <th>5377</th>\n",
       "      <td>3</td>\n",
       "      <td>control</td>\n",
       "      <td>0.0</td>\n",
       "      <td>0</td>\n",
       "    </tr>\n",
       "  </tbody>\n",
       "</table>\n",
       "</div>"
      ],
      "text/plain": [
       "      USER_ID VARIANT_NAME  REVENUE  BUY\n",
       "2406        2      control      0.0    0\n",
       "3479        2      control      0.0    0\n",
       "7076        2      control      0.0    0\n",
       "4145        3      variant      0.0    0\n",
       "5377        3      control      0.0    0"
      ]
     },
     "execution_count": 4,
     "metadata": {},
     "output_type": "execute_result"
    }
   ],
   "source": [
    "df_sorted = df.copy()\n",
    "df_sorted.sort_values(['USER_ID', 'REVENUE'], inplace=True, ascending=[True, False])\n",
    "df_sorted.head()"
   ]
  },
  {
   "cell_type": "markdown",
   "id": "377cfbae-3389-4934-a57e-b0ecc5babb0f",
   "metadata": {},
   "source": [
    "We sorted the data and removed duplicate entries to maximize revenue retention. Next, we added the columns \"RANK_REVENUE\" and \"RANK_CONVERSION\", representing the average ranks of \"REVENUE\" and \"BUY\", respectively. This step prepares the dataset for the Mann-Whitney U test."
   ]
  },
  {
   "cell_type": "code",
   "execution_count": 5,
   "id": "e239545c-28ac-4249-a6c8-6feaac4a2b9e",
   "metadata": {},
   "outputs": [],
   "source": [
    "df_sorted = df_sorted.drop_duplicates(subset=['USER_ID']).copy()"
   ]
  },
  {
   "cell_type": "code",
   "execution_count": 6,
   "id": "92f18cd8-688f-4c1e-a882-3ed43b2574a6",
   "metadata": {},
   "outputs": [
    {
     "data": {
      "text/html": [
       "<div>\n",
       "<style scoped>\n",
       "    .dataframe tbody tr th:only-of-type {\n",
       "        vertical-align: middle;\n",
       "    }\n",
       "\n",
       "    .dataframe tbody tr th {\n",
       "        vertical-align: top;\n",
       "    }\n",
       "\n",
       "    .dataframe thead th {\n",
       "        text-align: right;\n",
       "    }\n",
       "</style>\n",
       "<table border=\"1\" class=\"dataframe\">\n",
       "  <thead>\n",
       "    <tr style=\"text-align: right;\">\n",
       "      <th></th>\n",
       "      <th>USER_ID</th>\n",
       "      <th>VARIANT_NAME</th>\n",
       "      <th>REVENUE</th>\n",
       "      <th>BUY</th>\n",
       "      <th>RANK_REVENUE</th>\n",
       "      <th>RANK_CONVERSION</th>\n",
       "    </tr>\n",
       "  </thead>\n",
       "  <tbody>\n",
       "    <tr>\n",
       "      <th>2406</th>\n",
       "      <td>2</td>\n",
       "      <td>control</td>\n",
       "      <td>0.00</td>\n",
       "      <td>0</td>\n",
       "      <td>3087.5</td>\n",
       "      <td>3087.5</td>\n",
       "    </tr>\n",
       "    <tr>\n",
       "      <th>4145</th>\n",
       "      <td>3</td>\n",
       "      <td>variant</td>\n",
       "      <td>0.00</td>\n",
       "      <td>0</td>\n",
       "      <td>3087.5</td>\n",
       "      <td>3087.5</td>\n",
       "    </tr>\n",
       "    <tr>\n",
       "      <th>9077</th>\n",
       "      <td>4</td>\n",
       "      <td>variant</td>\n",
       "      <td>0.00</td>\n",
       "      <td>0</td>\n",
       "      <td>3087.5</td>\n",
       "      <td>3087.5</td>\n",
       "    </tr>\n",
       "    <tr>\n",
       "      <th>9155</th>\n",
       "      <td>5</td>\n",
       "      <td>variant</td>\n",
       "      <td>0.00</td>\n",
       "      <td>0</td>\n",
       "      <td>3087.5</td>\n",
       "      <td>3087.5</td>\n",
       "    </tr>\n",
       "    <tr>\n",
       "      <th>7720</th>\n",
       "      <td>6</td>\n",
       "      <td>variant</td>\n",
       "      <td>0.00</td>\n",
       "      <td>0</td>\n",
       "      <td>3087.5</td>\n",
       "      <td>3087.5</td>\n",
       "    </tr>\n",
       "    <tr>\n",
       "      <th>...</th>\n",
       "      <td>...</td>\n",
       "      <td>...</td>\n",
       "      <td>...</td>\n",
       "      <td>...</td>\n",
       "      <td>...</td>\n",
       "      <td>...</td>\n",
       "    </tr>\n",
       "    <tr>\n",
       "      <th>9290</th>\n",
       "      <td>9993</td>\n",
       "      <td>control</td>\n",
       "      <td>0.00</td>\n",
       "      <td>0</td>\n",
       "      <td>3087.5</td>\n",
       "      <td>3087.5</td>\n",
       "    </tr>\n",
       "    <tr>\n",
       "      <th>2749</th>\n",
       "      <td>9995</td>\n",
       "      <td>variant</td>\n",
       "      <td>0.00</td>\n",
       "      <td>0</td>\n",
       "      <td>3087.5</td>\n",
       "      <td>3087.5</td>\n",
       "    </tr>\n",
       "    <tr>\n",
       "      <th>5915</th>\n",
       "      <td>9996</td>\n",
       "      <td>variant</td>\n",
       "      <td>6.46</td>\n",
       "      <td>1</td>\n",
       "      <td>6295.0</td>\n",
       "      <td>6249.5</td>\n",
       "    </tr>\n",
       "    <tr>\n",
       "      <th>1064</th>\n",
       "      <td>9998</td>\n",
       "      <td>control</td>\n",
       "      <td>0.00</td>\n",
       "      <td>0</td>\n",
       "      <td>3087.5</td>\n",
       "      <td>3087.5</td>\n",
       "    </tr>\n",
       "    <tr>\n",
       "      <th>6883</th>\n",
       "      <td>10000</td>\n",
       "      <td>variant</td>\n",
       "      <td>0.00</td>\n",
       "      <td>0</td>\n",
       "      <td>3087.5</td>\n",
       "      <td>3087.5</td>\n",
       "    </tr>\n",
       "  </tbody>\n",
       "</table>\n",
       "<p>6324 rows × 6 columns</p>\n",
       "</div>"
      ],
      "text/plain": [
       "      USER_ID VARIANT_NAME  REVENUE  BUY  RANK_REVENUE  RANK_CONVERSION\n",
       "2406        2      control     0.00    0        3087.5           3087.5\n",
       "4145        3      variant     0.00    0        3087.5           3087.5\n",
       "9077        4      variant     0.00    0        3087.5           3087.5\n",
       "9155        5      variant     0.00    0        3087.5           3087.5\n",
       "7720        6      variant     0.00    0        3087.5           3087.5\n",
       "...       ...          ...      ...  ...           ...              ...\n",
       "9290     9993      control     0.00    0        3087.5           3087.5\n",
       "2749     9995      variant     0.00    0        3087.5           3087.5\n",
       "5915     9996      variant     6.46    1        6295.0           6249.5\n",
       "1064     9998      control     0.00    0        3087.5           3087.5\n",
       "6883    10000      variant     0.00    0        3087.5           3087.5\n",
       "\n",
       "[6324 rows x 6 columns]"
      ]
     },
     "execution_count": 6,
     "metadata": {},
     "output_type": "execute_result"
    }
   ],
   "source": [
    "df_sorted.loc[:, 'RANK_REVENUE'] = df_sorted['REVENUE'].rank(method='average')\n",
    "df_sorted.loc[:, 'RANK_CONVERSION'] = df_sorted['BUY'].rank(method='average')\n",
    "\n",
    "df_sorted"
   ]
  },
  {
   "cell_type": "code",
   "execution_count": 7,
   "id": "d8609f96-d1e1-45b7-aaac-37ef4b931ffb",
   "metadata": {},
   "outputs": [],
   "source": [
    "df_control = df_sorted[df_sorted.VARIANT_NAME == 'control'].copy()\n",
    "df_variant = df_sorted[df_sorted.VARIANT_NAME == 'variant'].copy()"
   ]
  },
  {
   "cell_type": "markdown",
   "id": "9ebb63ab-891c-4adc-8ac6-821ce6201e66",
   "metadata": {},
   "source": [
    "## Any intersection between control and variant groups?"
   ]
  },
  {
   "cell_type": "markdown",
   "id": "cbcd21eb-0f85-4f6d-8bdb-37000fab9508",
   "metadata": {},
   "source": [
    "Having the same users in both the control and variant groups would lead to inaccurate results, as each user would be counted twice, skewing the data. Therefore, before conducting any analysis, we need to remove duplicate users."
   ]
  },
  {
   "cell_type": "code",
   "execution_count": 8,
   "id": "51dfd782-9f1d-43fd-ae49-fbbce9ba5913",
   "metadata": {},
   "outputs": [
    {
     "data": {
      "text/html": [
       "<div>\n",
       "<style scoped>\n",
       "    .dataframe tbody tr th:only-of-type {\n",
       "        vertical-align: middle;\n",
       "    }\n",
       "\n",
       "    .dataframe tbody tr th {\n",
       "        vertical-align: top;\n",
       "    }\n",
       "\n",
       "    .dataframe thead th {\n",
       "        text-align: right;\n",
       "    }\n",
       "</style>\n",
       "<table border=\"1\" class=\"dataframe\">\n",
       "  <thead>\n",
       "    <tr style=\"text-align: right;\">\n",
       "      <th></th>\n",
       "      <th>USER_ID</th>\n",
       "      <th>VARIANT_NAME_x</th>\n",
       "      <th>REVENUE_x</th>\n",
       "      <th>BUY_x</th>\n",
       "      <th>RANK_REVENUE_x</th>\n",
       "      <th>RANK_CONVERSION_x</th>\n",
       "      <th>VARIANT_NAME_y</th>\n",
       "      <th>REVENUE_y</th>\n",
       "      <th>BUY_y</th>\n",
       "      <th>RANK_REVENUE_y</th>\n",
       "      <th>RANK_CONVERSION_y</th>\n",
       "    </tr>\n",
       "  </thead>\n",
       "  <tbody>\n",
       "  </tbody>\n",
       "</table>\n",
       "</div>"
      ],
      "text/plain": [
       "Empty DataFrame\n",
       "Columns: [USER_ID, VARIANT_NAME_x, REVENUE_x, BUY_x, RANK_REVENUE_x, RANK_CONVERSION_x, VARIANT_NAME_y, REVENUE_y, BUY_y, RANK_REVENUE_y, RANK_CONVERSION_y]\n",
       "Index: []"
      ]
     },
     "execution_count": 8,
     "metadata": {},
     "output_type": "execute_result"
    }
   ],
   "source": [
    "df_overlap = pd.merge(df_control, df_variant, on=\"USER_ID\").copy()\n",
    "df_overlap"
   ]
  },
  {
   "cell_type": "markdown",
   "id": "45feaa7e-3a7b-4160-9fff-eb6f8b00b3e2",
   "metadata": {},
   "source": [
    "There is no overlap between the control and variant groups, so we can now proceed with the A/B test.\""
   ]
  },
  {
   "cell_type": "markdown",
   "id": "94df3e81-3f1c-458c-bf0a-900d96f88118",
   "metadata": {},
   "source": [
    "## Metric"
   ]
  },
  {
   "cell_type": "markdown",
   "id": "3e81e79e-dc4e-4fa2-bcea-a1c3a63af011",
   "metadata": {},
   "source": [
    "There are two ways to conduct an A/B test, depending on the metric used:\n",
    "- Conversions refer to any action taken online that aligns with a business’s goals, such as filling out a form, making a purchase, or completing a survey.\n",
    "- Revenue is a continuous metric that directly impacts the business's bottom line.\n",
    "\n",
    "First, we consider conversion rate, which represents the number of conversions within a given timeframe and is typically expressed as a percentage. For example, if 100 visitors access a website and 10 make a purchase, the conversion rate is 10%. This metric helps businesses assess how effectively their website converts visitors into customers.\n",
    "\n",
    "Secondly, we also conducted an A/B test on revenue, as a high conversion rate does not necessarily imply high revenue. For example, Amour Beauty Box may have more people signing up for the monthly box, resulting in a high conversion rate but lower revenue. Conversely, if fewer people sign up but opt for annual payments, it would yield a lower conversion rate but higher revenue.\n"
   ]
  },
  {
   "cell_type": "code",
   "execution_count": 9,
   "id": "dfdf45e1-3878-4d45-97f7-f55ada3a80d3",
   "metadata": {},
   "outputs": [
    {
     "data": {
      "text/plain": [
       "{'Control': (3048, 80), 'Variant': (3126, 70)}"
      ]
     },
     "execution_count": 9,
     "metadata": {},
     "output_type": "execute_result"
    }
   ],
   "source": [
    "conversion = {'Control': (sum(df_control.BUY == 0),\n",
    "                         sum(df_control.BUY == 1)),\n",
    "            'Variant': (sum(df_variant.BUY == 0),\n",
    "                         sum(df_variant.BUY == 1))}\n",
    "conversion"
   ]
  },
  {
   "cell_type": "code",
   "execution_count": 10,
   "id": "43a75752-5393-4523-8778-c44492bc2e76",
   "metadata": {},
   "outputs": [
    {
     "data": {
      "image/png": "[encoded data removed]",
      "text/plain": [
       "<Figure size 640x480 with 1 Axes>"
      ]
     },
     "metadata": {},
     "output_type": "display_data"
    }
   ],
   "source": [
    "x = np.arange(2)  # the label locations\n",
    "width = 0.25  # the width of the bars\n",
    "multiplier = 0\n",
    "\n",
    "fig, ax = plt.subplots(layout='constrained')\n",
    "\n",
    "for attribute, measurement in conversion.items():\n",
    "    offset = width * multiplier\n",
    "    rects = ax.bar(x + offset, measurement, width, label=attribute)\n",
    "    ax.bar_label(rects, padding=3)\n",
    "    multiplier += 1\n",
    "\n",
    "# Add some text for labels, title and custom x-axis tick labels, etc.\n",
    "ax.set_ylabel('Counts', fontsize=15)\n",
    "ax.set_title('Membership Sign-ups', fontsize=18)\n",
    "ax.set_xticks(x + width/2, ['Not Signing Up', 'Signing up'], fontsize=15)\n",
    "ax.legend(loc='upper right', ncols=3, fontsize=13)\n",
    "#plt.tight_layout()\n",
    "plt.savefig(\"Figure/membership_signups.jpg\")"
   ]
  },
  {
   "cell_type": "code",
   "execution_count": 11,
   "id": "c34df078-046e-4c5d-acd9-245fe9198bfd",
   "metadata": {},
   "outputs": [
    {
     "data": {
      "image/png": "[encoded data removed]",
      "text/plain": [
       "<Figure size 1000x700 with 1 Axes>"
      ]
     },
     "metadata": {},
     "output_type": "display_data"
    }
   ],
   "source": [
    "plt.figure(figsize =(10, 7))\n",
    "\n",
    "plt.boxplot([df_control.REVENUE, df_variant.REVENUE])\n",
    "plt.xticks([1, 2], ['Control', 'Variant'], fontsize = 15)\n",
    "plt.ylabel('Revenue', fontsize = 15)\n",
    "plt.title('Revenue distribution', fontsize=18)\n",
    "plt.savefig(\"Figure/revenue_distribution.jpg\")"
   ]
  },
  {
   "cell_type": "markdown",
   "id": "d93d676a-cbd7-4b7d-8f17-cc0aee7363f0",
   "metadata": {},
   "source": [
    "## Normality test"
   ]
  },
  {
   "cell_type": "markdown",
   "id": "ad2865e8-c7e9-4511-95d8-909112d5a6de",
   "metadata": {},
   "source": [
    "Since our sample size is large, we choose not to use the T-test. There are several options for conducting an A/B test, depending on whether the data is normally distributed. If the conversion rate or revenue follows a Gaussian distribution, we will perform a Z-test. Otherwise, we recommend using the Mann-Whitney U test, a non-parametric method that does not require the assumption of normality. Therefore, our first step is to test for normality."
   ]
  },
  {
   "cell_type": "code",
   "execution_count": 12,
   "id": "e8bdd780-4197-4300-bbc6-a652a9b8726d",
   "metadata": {},
   "outputs": [],
   "source": [
    "def normal_test(data):\n",
    "    stat, p = normaltest(data)\n",
    "    print('Statistics=%.3f, p=%.3f' % (stat, p))\n",
    "    alpha = 0.05\n",
    "    if p > alpha:\n",
    "        print('Sample looks Gaussian (fail to reject H0)')\n",
    "    else:\n",
    "        print('Sample does not look Gaussian (reject H0)')"
   ]
  },
  {
   "cell_type": "code",
   "execution_count": 13,
   "id": "caf30758-04a3-49ee-a139-74e3a22661f7",
   "metadata": {},
   "outputs": [
    {
     "name": "stdout",
     "output_type": "stream",
     "text": [
      "Statistics=9552.712, p=0.000\n",
      "Sample does not look Gaussian (reject H0)\n"
     ]
    }
   ],
   "source": [
    "normal_test(df_control.REVENUE)"
   ]
  },
  {
   "cell_type": "code",
   "execution_count": 14,
   "id": "4c180606-4a28-4f5d-93d5-7fa992d785a7",
   "metadata": {},
   "outputs": [
    {
     "name": "stdout",
     "output_type": "stream",
     "text": [
      "Statistics=8273.628, p=0.000\n",
      "Sample does not look Gaussian (reject H0)\n"
     ]
    }
   ],
   "source": [
    "normal_test(df_variant.REVENUE)"
   ]
  },
  {
   "cell_type": "code",
   "execution_count": 15,
   "id": "2e9c3d3c-577d-4095-8cd5-5149fceed7f8",
   "metadata": {},
   "outputs": [
    {
     "name": "stdout",
     "output_type": "stream",
     "text": [
      "Statistics=3490.598, p=0.000\n",
      "Sample does not look Gaussian (reject H0)\n"
     ]
    }
   ],
   "source": [
    "normal_test(df_control.BUY)"
   ]
  },
  {
   "cell_type": "code",
   "execution_count": 16,
   "id": "61c71c64-596b-4fa1-bdda-f07459cbd9c8",
   "metadata": {},
   "outputs": [
    {
     "name": "stdout",
     "output_type": "stream",
     "text": [
      "Statistics=3781.952, p=0.000\n",
      "Sample does not look Gaussian (reject H0)\n"
     ]
    }
   ],
   "source": [
    "normal_test(df_variant.BUY)"
   ]
  },
  {
   "cell_type": "markdown",
   "id": "f15dac6a-3719-4b2a-a00e-36e0b6a4f409",
   "metadata": {},
   "source": [
    "We found that neither revenue nor conversion rate follows a Gaussian distribution. Therefore, we chose the Mann-Whitney U test for our analysis."
   ]
  },
  {
   "cell_type": "markdown",
   "id": "205f25fb-288c-49c0-b20d-316f76f56a22",
   "metadata": {},
   "source": [
    "## Mann Whitney U Test/ Wilcoxon rank sum test"
   ]
  },
  {
   "cell_type": "markdown",
   "id": "9e695fbe-5483-4678-b9bd-f77aaa1799ee",
   "metadata": {},
   "source": [
    "The Mann-Whitney U test is equivalent to an independent t-test. It does not assume normality and works well with small sample sizes.\n",
    "\n",
    "Steps for Mann Whitney U Test:\n",
    "\n",
    "1. Collect two independent samples.\n",
    "2. Rank the data from smallest to largest across both groups. If two observations have the same value, assign them the average rank.\n",
    "3. Sum the ranks for each sample (denoted as $R_1$ and $R_2$)\n",
    "4. Calculate the U-statistics:\n",
    "\n",
    "$$ U_1 = n_1 n_2 + \\frac{n_1(n_1 + 1)}{2} - R_1 $$\n",
    "\n",
    "$$ U_2 = n_1 n_2 + \\frac{n_2(n_2 + 1)}{2} - R_2 $$\n",
    "\n",
    "where \n",
    "- $n_1$ and $n_2$ are sample sizes for the two groups\n",
    "- $R_1$ and $R_2$ are the rank sums of each group\n",
    "\n",
    "The final U-statistics is the smallest value of $U_1$ and $U_2$.\n",
    "\n",
    "5. Compare U to the critical value from the Mann-Whitney U Table at the chosen significance level (e.g. 0.05)\n",
    "6. Decision rules:\n",
    "- If $U \\le U_0$, rejects the null hypothesis.\n",
    "- Else, do not reject the null hypothesis."
   ]
  },
  {
   "cell_type": "code",
   "execution_count": 17,
   "id": "3834dcb7-d6b8-4109-9f1a-3e70c2c49770",
   "metadata": {},
   "outputs": [],
   "source": [
    "R1_conversion = sum(df_control.RANK_CONVERSION)\n",
    "R2_conversion = sum(df_variant.RANK_CONVERSION)"
   ]
  },
  {
   "cell_type": "code",
   "execution_count": 18,
   "id": "a64bc75a-ce69-4828-9f74-564dd3d104cc",
   "metadata": {},
   "outputs": [],
   "source": [
    "n1 = len(df_control)\n",
    "n2 = len(df_variant)"
   ]
  },
  {
   "cell_type": "code",
   "execution_count": 19,
   "id": "f3287000-93fd-4205-8df7-5bfc0bffdb4c",
   "metadata": {},
   "outputs": [
    {
     "data": {
      "text/plain": [
       "4980184.0"
      ]
     },
     "execution_count": 19,
     "metadata": {},
     "output_type": "execute_result"
    }
   ],
   "source": [
    "U1_conversion = n1*n2 + (n1*(n1 + 1)/2) - R1_conversion\n",
    "U2_conversion = n1*n2 + (n2*(n2 + 1)/2) - R2_conversion\n",
    "U_conversion = min(U1_conversion, U2_conversion)\n",
    "U_conversion"
   ]
  },
  {
   "cell_type": "code",
   "execution_count": 20,
   "id": "7c5a7fbe-694a-415e-be60-34e4c55b0aee",
   "metadata": {},
   "outputs": [],
   "source": [
    "R1_revenue = sum(df_control.RANK_REVENUE)\n",
    "R2_revenue = sum(df_variant.RANK_REVENUE)"
   ]
  },
  {
   "cell_type": "code",
   "execution_count": 21,
   "id": "589fd63a-daaa-4ae0-9245-a601e5db6dc4",
   "metadata": {},
   "outputs": [
    {
     "data": {
      "text/plain": [
       "4979759.0"
      ]
     },
     "execution_count": 21,
     "metadata": {},
     "output_type": "execute_result"
    }
   ],
   "source": [
    "U1_revenue = n1*n2 + (n1*(n1 + 1)/2) - R1_revenue\n",
    "U2_revenue = n1*n2 + (n2*(n2 + 1)/2) - R2_revenue\n",
    "U_revenue = min(U1_revenue, U2_revenue)\n",
    "U_revenue"
   ]
  },
  {
   "cell_type": "markdown",
   "id": "b14841e6-9f21-4750-b7ae-0db3ef2355a6",
   "metadata": {},
   "source": [
    "## Compute p value from Mann  U Test"
   ]
  },
  {
   "cell_type": "markdown",
   "id": "e7f6a135-579d-4861-b2d2-eda5f3e794b4",
   "metadata": {},
   "source": [
    "For small sample sizes, the exact distribution of U can be calculated, and the p-value can be determined directly from the CDF. However, for larger sample sizes, the distribution of U can be approximated by a normal distribution, and the p-value can be calculated using the standard normal CDF.\n",
    "\n",
    "Expected value of U:\n",
    "\n",
    "$$\\mu_U = \\frac{n_1 \\cdot n_2}{2}$$\n",
    "\n",
    "Standard error of U:\n",
    "\n",
    "$$\\sigma_U = \\sqrt{\\frac{n_1 \\cdot n_2 \\cdot (n_1 + n_2 + 1)}{12}}$$\n",
    "\n",
    "z-value is:\n",
    "\n",
    "$$z = \\frac{U - \\mu_U}{\\sigma_U}$$\n",
    "\n",
    "The p-value can be obtained this way."
   ]
  },
  {
   "cell_type": "code",
   "execution_count": 22,
   "id": "90695663-9f4d-423d-a704-bc5100eac321",
   "metadata": {},
   "outputs": [],
   "source": [
    "def p_val_computation(U, n1, n2, method:str):\n",
    "    mu_u = n1*n2/2\n",
    "    s_u = np.sqrt(n1*n2*(n1 + n2 + 1)/12)\n",
    "    z = (U - mu_u)/s_u\n",
    "    if method == 'right':\n",
    "        p = 1 - stats.norm.cdf(z)\n",
    "    elif method == 'left':\n",
    "        p = stats.norm.cdf(z)\n",
    "    elif method == 'two-tailed':\n",
    "        p = 2 * stats.norm.cdf(-abs(z))\n",
    "\n",
    "    return p"
   ]
  },
  {
   "cell_type": "code",
   "execution_count": 23,
   "id": "f0e15eb8-f91f-4331-a175-38673a615802",
   "metadata": {},
   "outputs": [
    {
     "data": {
      "text/plain": [
       "0.5998379317241425"
      ]
     },
     "execution_count": 23,
     "metadata": {},
     "output_type": "execute_result"
    }
   ],
   "source": [
    "p_conversion = p_val_computation(U_conversion, n1, n2, 'right')\n",
    "p_conversion"
   ]
  },
  {
   "cell_type": "markdown",
   "id": "ee063674-f119-439b-822d-0e33d5ddabae",
   "metadata": {},
   "source": [
    "Since $p_{\\text{conversion}} > 0.05$, we fail to reject the null hypothesis, indicating that the implemented change does not lead to a statistically significant increase in the conversion rate. In other words, the modification did not result in more sign-ups, suggesting that the adjustment had little to no impact on user behavior. This outcome highlights the importance of further analysis to understand potential influencing factors, such as user preferences, market conditions, or additional website optimizations that could drive engagement and improve conversion rates."
   ]
  },
  {
   "cell_type": "code",
   "execution_count": 24,
   "id": "301af470-f87d-4b00-af69-b15b87ff0303",
   "metadata": {},
   "outputs": [
    {
     "data": {
      "text/plain": [
       "0.6020984455506847"
      ]
     },
     "execution_count": 24,
     "metadata": {},
     "output_type": "execute_result"
    }
   ],
   "source": [
    "p_revenue = p_val_computation(U_revenue, n1, n2, 'right')\n",
    "p_revenue"
   ]
  },
  {
   "cell_type": "markdown",
   "id": "c9df56b5-745b-4980-a05a-de461a1a8d63",
   "metadata": {},
   "source": [
    "Since $p_{\\text{revenue} > 0.05}$, we fail to reject the second null hypothesis. This indicates that the implemented change does not lead to a statistically significant increase in revenue. In other words, the modification has not contributed to higher earnings, suggesting that the adjustment had little to no measurable impact on user spending or purchasing behavior. This outcome underscores the need for further analysis to explore potential factors influencing revenue, such as pricing strategies, customer retention efforts, or external market conditions that could drive financial growth."
   ]
  },
  {
   "cell_type": "code",
   "execution_count": null,
   "id": "f7f9bf16-1fd4-465c-8665-22a2a546139a",
   "metadata": {},
   "outputs": [],
   "source": []
  }
 ],
 "metadata": {
  "kernelspec": {
   "display_name": "python_prep",
   "language": "python",
   "name": "python_prep"
  },
  "language_info": {
   "codemirror_mode": {
    "name": "ipython",
    "version": 3
   },
   "file_extension": ".py",
   "mimetype": "text/x-python",
   "name": "python",
   "nbconvert_exporter": "python",
   "pygments_lexer": "ipython3",
   "version": "3.12.3"
  }
 },
 "nbformat": 4,
 "nbformat_minor": 5
}

{
 "cells": [
  {
   "cell_type": "markdown",
   "id": "8748ef00-ac58-44ac-ad7a-a88c89a58f5e",
   "metadata": {},
   "source": [
    "# EDA"
   ]
  },
  {
   "cell_type": "markdown",
   "id": "d6c0c212-ebe4-4d7b-b7a4-c7fd3b8111a4",
   "metadata": {},
   "source": [
    "EDA for the AB_Test_Results.csv. This dataset is from [Kaggle](https://www.kaggle.com/datasets/sergylog/ab-test-data)."
   ]
  },
  {
   "cell_type": "markdown",
   "id": "ba22f6d4-3a3a-48c7-963d-06cf576846bb",
   "metadata": {},
   "source": [
    "## Import libraries"
   ]
  },
  {
   "cell_type": "code",
   "execution_count": 1,
   "id": "3e22364a-e115-46fd-84c9-f8d0a9593c32",
   "metadata": {},
   "outputs": [],
   "source": [
    "import numpy as np\n",
    "import pandas as pd\n",
    "import matplotlib.pyplot as plt\n",
    "import seaborn as sns\n",
    "import sklearn\n",
    "from scipy import stats\n",
    "from scipy.stats import shapiro\n",
    "from scipy.stats import normaltest\n",
    "from scipy.stats import mannwhitneyu"
   ]
  },
  {
   "cell_type": "markdown",
   "id": "75ed131c-5623-4514-b304-d2a493de2ac3",
   "metadata": {},
   "source": [
    "## Load data"
   ]
  },
  {
   "cell_type": "code",
   "execution_count": 2,
   "id": "612991a2-2364-4af2-8180-590a4e837969",
   "metadata": {},
   "outputs": [],
   "source": [
    "df = pd.read_csv(\"Data/AB_Test_Results.csv\")"
   ]
  },
  {
   "cell_type": "code",
   "execution_count": 3,
   "id": "80c098a5-e474-4e75-af9a-cc43a0c2cba0",
   "metadata": {},
   "outputs": [
    {
     "data": {
      "text/html": [
       "<div>\n",
       "<style scoped>\n",
       "    .dataframe tbody tr th:only-of-type {\n",
       "        vertical-align: middle;\n",
       "    }\n",
       "\n",
       "    .dataframe tbody tr th {\n",
       "        vertical-align: top;\n",
       "    }\n",
       "\n",
       "    .dataframe thead th {\n",
       "        text-align: right;\n",
       "    }\n",
       "</style>\n",
       "<table border=\"1\" class=\"dataframe\">\n",
       "  <thead>\n",
       "    <tr style=\"text-align: right;\">\n",
       "      <th></th>\n",
       "      <th>USER_ID</th>\n",
       "      <th>VARIANT_NAME</th>\n",
       "      <th>REVENUE</th>\n",
       "    </tr>\n",
       "  </thead>\n",
       "  <tbody>\n",
       "    <tr>\n",
       "      <th>0</th>\n",
       "      <td>737</td>\n",
       "      <td>variant</td>\n",
       "      <td>0.0</td>\n",
       "    </tr>\n",
       "    <tr>\n",
       "      <th>1</th>\n",
       "      <td>2423</td>\n",
       "      <td>control</td>\n",
       "      <td>0.0</td>\n",
       "    </tr>\n",
       "    <tr>\n",
       "      <th>2</th>\n",
       "      <td>9411</td>\n",
       "      <td>control</td>\n",
       "      <td>0.0</td>\n",
       "    </tr>\n",
       "    <tr>\n",
       "      <th>3</th>\n",
       "      <td>7311</td>\n",
       "      <td>control</td>\n",
       "      <td>0.0</td>\n",
       "    </tr>\n",
       "    <tr>\n",
       "      <th>4</th>\n",
       "      <td>6174</td>\n",
       "      <td>variant</td>\n",
       "      <td>0.0</td>\n",
       "    </tr>\n",
       "  </tbody>\n",
       "</table>\n",
       "</div>"
      ],
      "text/plain": [
       "   USER_ID VARIANT_NAME  REVENUE\n",
       "0      737      variant      0.0\n",
       "1     2423      control      0.0\n",
       "2     9411      control      0.0\n",
       "3     7311      control      0.0\n",
       "4     6174      variant      0.0"
      ]
     },
     "execution_count": 3,
     "metadata": {},
     "output_type": "execute_result"
    }
   ],
   "source": [
    "df.head()"
   ]
  },
  {
   "cell_type": "code",
   "execution_count": 4,
   "id": "36a038e3-0043-4b73-b6a2-32636c44f33c",
   "metadata": {},
   "outputs": [],
   "source": [
    "df['BUY'] = 1*(df.REVENUE > 0)"
   ]
  },
  {
   "cell_type": "code",
   "execution_count": 5,
   "id": "503f5cf7-a0be-4680-9011-0b312c1e7d97",
   "metadata": {},
   "outputs": [
    {
     "data": {
      "text/html": [
       "<div>\n",
       "<style scoped>\n",
       "    .dataframe tbody tr th:only-of-type {\n",
       "        vertical-align: middle;\n",
       "    }\n",
       "\n",
       "    .dataframe tbody tr th {\n",
       "        vertical-align: top;\n",
       "    }\n",
       "\n",
       "    .dataframe thead th {\n",
       "        text-align: right;\n",
       "    }\n",
       "</style>\n",
       "<table border=\"1\" class=\"dataframe\">\n",
       "  <thead>\n",
       "    <tr style=\"text-align: right;\">\n",
       "      <th></th>\n",
       "      <th>USER_ID</th>\n",
       "      <th>VARIANT_NAME</th>\n",
       "      <th>REVENUE</th>\n",
       "      <th>BUY</th>\n",
       "    </tr>\n",
       "  </thead>\n",
       "  <tbody>\n",
       "    <tr>\n",
       "      <th>13</th>\n",
       "      <td>2529</td>\n",
       "      <td>variant</td>\n",
       "      <td>2.15</td>\n",
       "      <td>1</td>\n",
       "    </tr>\n",
       "    <tr>\n",
       "      <th>49</th>\n",
       "      <td>6429</td>\n",
       "      <td>control</td>\n",
       "      <td>3.25</td>\n",
       "      <td>1</td>\n",
       "    </tr>\n",
       "    <tr>\n",
       "      <th>139</th>\n",
       "      <td>3331</td>\n",
       "      <td>variant</td>\n",
       "      <td>4.27</td>\n",
       "      <td>1</td>\n",
       "    </tr>\n",
       "    <tr>\n",
       "      <th>149</th>\n",
       "      <td>8110</td>\n",
       "      <td>variant</td>\n",
       "      <td>1.75</td>\n",
       "      <td>1</td>\n",
       "    </tr>\n",
       "    <tr>\n",
       "      <th>152</th>\n",
       "      <td>8607</td>\n",
       "      <td>control</td>\n",
       "      <td>2.99</td>\n",
       "      <td>1</td>\n",
       "    </tr>\n",
       "    <tr>\n",
       "      <th>...</th>\n",
       "      <td>...</td>\n",
       "      <td>...</td>\n",
       "      <td>...</td>\n",
       "      <td>...</td>\n",
       "    </tr>\n",
       "    <tr>\n",
       "      <th>9651</th>\n",
       "      <td>9928</td>\n",
       "      <td>variant</td>\n",
       "      <td>1.25</td>\n",
       "      <td>1</td>\n",
       "    </tr>\n",
       "    <tr>\n",
       "      <th>9711</th>\n",
       "      <td>6468</td>\n",
       "      <td>control</td>\n",
       "      <td>2.93</td>\n",
       "      <td>1</td>\n",
       "    </tr>\n",
       "    <tr>\n",
       "      <th>9724</th>\n",
       "      <td>5205</td>\n",
       "      <td>control</td>\n",
       "      <td>14.17</td>\n",
       "      <td>1</td>\n",
       "    </tr>\n",
       "    <tr>\n",
       "      <th>9725</th>\n",
       "      <td>702</td>\n",
       "      <td>variant</td>\n",
       "      <td>2.92</td>\n",
       "      <td>1</td>\n",
       "    </tr>\n",
       "    <tr>\n",
       "      <th>9977</th>\n",
       "      <td>4678</td>\n",
       "      <td>variant</td>\n",
       "      <td>1.01</td>\n",
       "      <td>1</td>\n",
       "    </tr>\n",
       "  </tbody>\n",
       "</table>\n",
       "<p>152 rows × 4 columns</p>\n",
       "</div>"
      ],
      "text/plain": [
       "      USER_ID VARIANT_NAME  REVENUE  BUY\n",
       "13       2529      variant     2.15    1\n",
       "49       6429      control     3.25    1\n",
       "139      3331      variant     4.27    1\n",
       "149      8110      variant     1.75    1\n",
       "152      8607      control     2.99    1\n",
       "...       ...          ...      ...  ...\n",
       "9651     9928      variant     1.25    1\n",
       "9711     6468      control     2.93    1\n",
       "9724     5205      control    14.17    1\n",
       "9725      702      variant     2.92    1\n",
       "9977     4678      variant     1.01    1\n",
       "\n",
       "[152 rows x 4 columns]"
      ]
     },
     "execution_count": 5,
     "metadata": {},
     "output_type": "execute_result"
    }
   ],
   "source": [
    "df[df.REVENUE > 0]"
   ]
  },
  {
   "cell_type": "code",
   "execution_count": 6,
   "id": "51828a3b-d631-48ba-9ad3-84ba58ef69f3",
   "metadata": {},
   "outputs": [
    {
     "data": {
      "text/plain": [
       "10000"
      ]
     },
     "execution_count": 6,
     "metadata": {},
     "output_type": "execute_result"
    }
   ],
   "source": [
    "#df = df[df.REVENUE < 100].copy()\n",
    "len(df)"
   ]
  },
  {
   "cell_type": "code",
   "execution_count": 7,
   "id": "45d204aa-1ba6-4099-b0f2-9d37ff345724",
   "metadata": {},
   "outputs": [
    {
     "data": {
      "text/html": [
       "<div>\n",
       "<style scoped>\n",
       "    .dataframe tbody tr th:only-of-type {\n",
       "        vertical-align: middle;\n",
       "    }\n",
       "\n",
       "    .dataframe tbody tr th {\n",
       "        vertical-align: top;\n",
       "    }\n",
       "\n",
       "    .dataframe thead th {\n",
       "        text-align: right;\n",
       "    }\n",
       "</style>\n",
       "<table border=\"1\" class=\"dataframe\">\n",
       "  <thead>\n",
       "    <tr style=\"text-align: right;\">\n",
       "      <th></th>\n",
       "      <th>USER_ID</th>\n",
       "      <th>VARIANT_NAME</th>\n",
       "      <th>REVENUE</th>\n",
       "      <th>BUY</th>\n",
       "    </tr>\n",
       "  </thead>\n",
       "  <tbody>\n",
       "    <tr>\n",
       "      <th>0</th>\n",
       "      <td>737</td>\n",
       "      <td>variant</td>\n",
       "      <td>0.0</td>\n",
       "      <td>0</td>\n",
       "    </tr>\n",
       "    <tr>\n",
       "      <th>1</th>\n",
       "      <td>2423</td>\n",
       "      <td>control</td>\n",
       "      <td>0.0</td>\n",
       "      <td>0</td>\n",
       "    </tr>\n",
       "    <tr>\n",
       "      <th>2</th>\n",
       "      <td>9411</td>\n",
       "      <td>control</td>\n",
       "      <td>0.0</td>\n",
       "      <td>0</td>\n",
       "    </tr>\n",
       "    <tr>\n",
       "      <th>3</th>\n",
       "      <td>7311</td>\n",
       "      <td>control</td>\n",
       "      <td>0.0</td>\n",
       "      <td>0</td>\n",
       "    </tr>\n",
       "    <tr>\n",
       "      <th>4</th>\n",
       "      <td>6174</td>\n",
       "      <td>variant</td>\n",
       "      <td>0.0</td>\n",
       "      <td>0</td>\n",
       "    </tr>\n",
       "    <tr>\n",
       "      <th>...</th>\n",
       "      <td>...</td>\n",
       "      <td>...</td>\n",
       "      <td>...</td>\n",
       "      <td>...</td>\n",
       "    </tr>\n",
       "    <tr>\n",
       "      <th>9995</th>\n",
       "      <td>1981</td>\n",
       "      <td>control</td>\n",
       "      <td>0.0</td>\n",
       "      <td>0</td>\n",
       "    </tr>\n",
       "    <tr>\n",
       "      <th>9996</th>\n",
       "      <td>502</td>\n",
       "      <td>variant</td>\n",
       "      <td>0.0</td>\n",
       "      <td>0</td>\n",
       "    </tr>\n",
       "    <tr>\n",
       "      <th>9997</th>\n",
       "      <td>9214</td>\n",
       "      <td>variant</td>\n",
       "      <td>0.0</td>\n",
       "      <td>0</td>\n",
       "    </tr>\n",
       "    <tr>\n",
       "      <th>9998</th>\n",
       "      <td>7741</td>\n",
       "      <td>control</td>\n",
       "      <td>0.0</td>\n",
       "      <td>0</td>\n",
       "    </tr>\n",
       "    <tr>\n",
       "      <th>9999</th>\n",
       "      <td>9468</td>\n",
       "      <td>control</td>\n",
       "      <td>0.0</td>\n",
       "      <td>0</td>\n",
       "    </tr>\n",
       "  </tbody>\n",
       "</table>\n",
       "<p>10000 rows × 4 columns</p>\n",
       "</div>"
      ],
      "text/plain": [
       "      USER_ID VARIANT_NAME  REVENUE  BUY\n",
       "0         737      variant      0.0    0\n",
       "1        2423      control      0.0    0\n",
       "2        9411      control      0.0    0\n",
       "3        7311      control      0.0    0\n",
       "4        6174      variant      0.0    0\n",
       "...       ...          ...      ...  ...\n",
       "9995     1981      control      0.0    0\n",
       "9996      502      variant      0.0    0\n",
       "9997     9214      variant      0.0    0\n",
       "9998     7741      control      0.0    0\n",
       "9999     9468      control      0.0    0\n",
       "\n",
       "[10000 rows x 4 columns]"
      ]
     },
     "execution_count": 7,
     "metadata": {},
     "output_type": "execute_result"
    }
   ],
   "source": [
    "df_sorted = df.copy()\n",
    "df_sorted"
   ]
  },
  {
   "cell_type": "code",
   "execution_count": 8,
   "id": "3b03ab8f-2f2c-4b8e-9a6f-6dcf26903ef7",
   "metadata": {},
   "outputs": [],
   "source": [
    "df_sorted.sort_values(['USER_ID', 'REVENUE'], inplace=True, ascending=[True, False])"
   ]
  },
  {
   "cell_type": "code",
   "execution_count": 9,
   "id": "418a7927-69f1-4bed-8cde-66d11a5c1e98",
   "metadata": {},
   "outputs": [
    {
     "data": {
      "text/html": [
       "<div>\n",
       "<style scoped>\n",
       "    .dataframe tbody tr th:only-of-type {\n",
       "        vertical-align: middle;\n",
       "    }\n",
       "\n",
       "    .dataframe tbody tr th {\n",
       "        vertical-align: top;\n",
       "    }\n",
       "\n",
       "    .dataframe thead th {\n",
       "        text-align: right;\n",
       "    }\n",
       "</style>\n",
       "<table border=\"1\" class=\"dataframe\">\n",
       "  <thead>\n",
       "    <tr style=\"text-align: right;\">\n",
       "      <th></th>\n",
       "      <th>USER_ID</th>\n",
       "      <th>VARIANT_NAME</th>\n",
       "      <th>REVENUE</th>\n",
       "      <th>BUY</th>\n",
       "    </tr>\n",
       "  </thead>\n",
       "  <tbody>\n",
       "    <tr>\n",
       "      <th>2406</th>\n",
       "      <td>2</td>\n",
       "      <td>control</td>\n",
       "      <td>0.0</td>\n",
       "      <td>0</td>\n",
       "    </tr>\n",
       "    <tr>\n",
       "      <th>3479</th>\n",
       "      <td>2</td>\n",
       "      <td>control</td>\n",
       "      <td>0.0</td>\n",
       "      <td>0</td>\n",
       "    </tr>\n",
       "    <tr>\n",
       "      <th>7076</th>\n",
       "      <td>2</td>\n",
       "      <td>control</td>\n",
       "      <td>0.0</td>\n",
       "      <td>0</td>\n",
       "    </tr>\n",
       "    <tr>\n",
       "      <th>4145</th>\n",
       "      <td>3</td>\n",
       "      <td>variant</td>\n",
       "      <td>0.0</td>\n",
       "      <td>0</td>\n",
       "    </tr>\n",
       "    <tr>\n",
       "      <th>5377</th>\n",
       "      <td>3</td>\n",
       "      <td>control</td>\n",
       "      <td>0.0</td>\n",
       "      <td>0</td>\n",
       "    </tr>\n",
       "    <tr>\n",
       "      <th>...</th>\n",
       "      <td>...</td>\n",
       "      <td>...</td>\n",
       "      <td>...</td>\n",
       "      <td>...</td>\n",
       "    </tr>\n",
       "    <tr>\n",
       "      <th>2998</th>\n",
       "      <td>9996</td>\n",
       "      <td>control</td>\n",
       "      <td>0.0</td>\n",
       "      <td>0</td>\n",
       "    </tr>\n",
       "    <tr>\n",
       "      <th>1064</th>\n",
       "      <td>9998</td>\n",
       "      <td>control</td>\n",
       "      <td>0.0</td>\n",
       "      <td>0</td>\n",
       "    </tr>\n",
       "    <tr>\n",
       "      <th>6883</th>\n",
       "      <td>10000</td>\n",
       "      <td>variant</td>\n",
       "      <td>0.0</td>\n",
       "      <td>0</td>\n",
       "    </tr>\n",
       "    <tr>\n",
       "      <th>8921</th>\n",
       "      <td>10000</td>\n",
       "      <td>control</td>\n",
       "      <td>0.0</td>\n",
       "      <td>0</td>\n",
       "    </tr>\n",
       "    <tr>\n",
       "      <th>8970</th>\n",
       "      <td>10000</td>\n",
       "      <td>variant</td>\n",
       "      <td>0.0</td>\n",
       "      <td>0</td>\n",
       "    </tr>\n",
       "  </tbody>\n",
       "</table>\n",
       "<p>10000 rows × 4 columns</p>\n",
       "</div>"
      ],
      "text/plain": [
       "      USER_ID VARIANT_NAME  REVENUE  BUY\n",
       "2406        2      control      0.0    0\n",
       "3479        2      control      0.0    0\n",
       "7076        2      control      0.0    0\n",
       "4145        3      variant      0.0    0\n",
       "5377        3      control      0.0    0\n",
       "...       ...          ...      ...  ...\n",
       "2998     9996      control      0.0    0\n",
       "1064     9998      control      0.0    0\n",
       "6883    10000      variant      0.0    0\n",
       "8921    10000      control      0.0    0\n",
       "8970    10000      variant      0.0    0\n",
       "\n",
       "[10000 rows x 4 columns]"
      ]
     },
     "execution_count": 9,
     "metadata": {},
     "output_type": "execute_result"
    }
   ],
   "source": [
    "df_sorted"
   ]
  },
  {
   "cell_type": "code",
   "execution_count": 10,
   "id": "144c9f80-c79d-4321-a979-39a4a27312c7",
   "metadata": {},
   "outputs": [],
   "source": [
    "df_sorted = df_sorted.drop_duplicates(subset=['USER_ID']).copy()"
   ]
  },
  {
   "cell_type": "code",
   "execution_count": 11,
   "id": "0dd12d66-f90a-4d18-8ebe-d999ef893dc3",
   "metadata": {},
   "outputs": [
    {
     "data": {
      "text/html": [
       "<div>\n",
       "<style scoped>\n",
       "    .dataframe tbody tr th:only-of-type {\n",
       "        vertical-align: middle;\n",
       "    }\n",
       "\n",
       "    .dataframe tbody tr th {\n",
       "        vertical-align: top;\n",
       "    }\n",
       "\n",
       "    .dataframe thead th {\n",
       "        text-align: right;\n",
       "    }\n",
       "</style>\n",
       "<table border=\"1\" class=\"dataframe\">\n",
       "  <thead>\n",
       "    <tr style=\"text-align: right;\">\n",
       "      <th></th>\n",
       "      <th>USER_ID</th>\n",
       "      <th>VARIANT_NAME</th>\n",
       "      <th>REVENUE</th>\n",
       "      <th>BUY</th>\n",
       "    </tr>\n",
       "  </thead>\n",
       "  <tbody>\n",
       "    <tr>\n",
       "      <th>2406</th>\n",
       "      <td>2</td>\n",
       "      <td>control</td>\n",
       "      <td>0.00</td>\n",
       "      <td>0</td>\n",
       "    </tr>\n",
       "    <tr>\n",
       "      <th>4145</th>\n",
       "      <td>3</td>\n",
       "      <td>variant</td>\n",
       "      <td>0.00</td>\n",
       "      <td>0</td>\n",
       "    </tr>\n",
       "    <tr>\n",
       "      <th>9077</th>\n",
       "      <td>4</td>\n",
       "      <td>variant</td>\n",
       "      <td>0.00</td>\n",
       "      <td>0</td>\n",
       "    </tr>\n",
       "    <tr>\n",
       "      <th>9155</th>\n",
       "      <td>5</td>\n",
       "      <td>variant</td>\n",
       "      <td>0.00</td>\n",
       "      <td>0</td>\n",
       "    </tr>\n",
       "    <tr>\n",
       "      <th>7720</th>\n",
       "      <td>6</td>\n",
       "      <td>variant</td>\n",
       "      <td>0.00</td>\n",
       "      <td>0</td>\n",
       "    </tr>\n",
       "    <tr>\n",
       "      <th>...</th>\n",
       "      <td>...</td>\n",
       "      <td>...</td>\n",
       "      <td>...</td>\n",
       "      <td>...</td>\n",
       "    </tr>\n",
       "    <tr>\n",
       "      <th>9290</th>\n",
       "      <td>9993</td>\n",
       "      <td>control</td>\n",
       "      <td>0.00</td>\n",
       "      <td>0</td>\n",
       "    </tr>\n",
       "    <tr>\n",
       "      <th>2749</th>\n",
       "      <td>9995</td>\n",
       "      <td>variant</td>\n",
       "      <td>0.00</td>\n",
       "      <td>0</td>\n",
       "    </tr>\n",
       "    <tr>\n",
       "      <th>5915</th>\n",
       "      <td>9996</td>\n",
       "      <td>variant</td>\n",
       "      <td>6.46</td>\n",
       "      <td>1</td>\n",
       "    </tr>\n",
       "    <tr>\n",
       "      <th>1064</th>\n",
       "      <td>9998</td>\n",
       "      <td>control</td>\n",
       "      <td>0.00</td>\n",
       "      <td>0</td>\n",
       "    </tr>\n",
       "    <tr>\n",
       "      <th>6883</th>\n",
       "      <td>10000</td>\n",
       "      <td>variant</td>\n",
       "      <td>0.00</td>\n",
       "      <td>0</td>\n",
       "    </tr>\n",
       "  </tbody>\n",
       "</table>\n",
       "<p>6324 rows × 4 columns</p>\n",
       "</div>"
      ],
      "text/plain": [
       "      USER_ID VARIANT_NAME  REVENUE  BUY\n",
       "2406        2      control     0.00    0\n",
       "4145        3      variant     0.00    0\n",
       "9077        4      variant     0.00    0\n",
       "9155        5      variant     0.00    0\n",
       "7720        6      variant     0.00    0\n",
       "...       ...          ...      ...  ...\n",
       "9290     9993      control     0.00    0\n",
       "2749     9995      variant     0.00    0\n",
       "5915     9996      variant     6.46    1\n",
       "1064     9998      control     0.00    0\n",
       "6883    10000      variant     0.00    0\n",
       "\n",
       "[6324 rows x 4 columns]"
      ]
     },
     "execution_count": 11,
     "metadata": {},
     "output_type": "execute_result"
    }
   ],
   "source": [
    "df_sorted"
   ]
  },
  {
   "cell_type": "code",
   "execution_count": 12,
   "id": "8ff0530f-a134-45cc-b973-04f673d7603a",
   "metadata": {},
   "outputs": [
    {
     "data": {
      "text/html": [
       "<div>\n",
       "<style scoped>\n",
       "    .dataframe tbody tr th:only-of-type {\n",
       "        vertical-align: middle;\n",
       "    }\n",
       "\n",
       "    .dataframe tbody tr th {\n",
       "        vertical-align: top;\n",
       "    }\n",
       "\n",
       "    .dataframe thead th {\n",
       "        text-align: right;\n",
       "    }\n",
       "</style>\n",
       "<table border=\"1\" class=\"dataframe\">\n",
       "  <thead>\n",
       "    <tr style=\"text-align: right;\">\n",
       "      <th></th>\n",
       "      <th>USER_ID</th>\n",
       "      <th>VARIANT_NAME</th>\n",
       "      <th>REVENUE</th>\n",
       "      <th>BUY</th>\n",
       "      <th>RANK_REVENUE</th>\n",
       "      <th>RANK_CONVERSION</th>\n",
       "    </tr>\n",
       "  </thead>\n",
       "  <tbody>\n",
       "    <tr>\n",
       "      <th>2406</th>\n",
       "      <td>2</td>\n",
       "      <td>control</td>\n",
       "      <td>0.00</td>\n",
       "      <td>0</td>\n",
       "      <td>3087.5</td>\n",
       "      <td>3087.5</td>\n",
       "    </tr>\n",
       "    <tr>\n",
       "      <th>4145</th>\n",
       "      <td>3</td>\n",
       "      <td>variant</td>\n",
       "      <td>0.00</td>\n",
       "      <td>0</td>\n",
       "      <td>3087.5</td>\n",
       "      <td>3087.5</td>\n",
       "    </tr>\n",
       "    <tr>\n",
       "      <th>9077</th>\n",
       "      <td>4</td>\n",
       "      <td>variant</td>\n",
       "      <td>0.00</td>\n",
       "      <td>0</td>\n",
       "      <td>3087.5</td>\n",
       "      <td>3087.5</td>\n",
       "    </tr>\n",
       "    <tr>\n",
       "      <th>9155</th>\n",
       "      <td>5</td>\n",
       "      <td>variant</td>\n",
       "      <td>0.00</td>\n",
       "      <td>0</td>\n",
       "      <td>3087.5</td>\n",
       "      <td>3087.5</td>\n",
       "    </tr>\n",
       "    <tr>\n",
       "      <th>7720</th>\n",
       "      <td>6</td>\n",
       "      <td>variant</td>\n",
       "      <td>0.00</td>\n",
       "      <td>0</td>\n",
       "      <td>3087.5</td>\n",
       "      <td>3087.5</td>\n",
       "    </tr>\n",
       "    <tr>\n",
       "      <th>...</th>\n",
       "      <td>...</td>\n",
       "      <td>...</td>\n",
       "      <td>...</td>\n",
       "      <td>...</td>\n",
       "      <td>...</td>\n",
       "      <td>...</td>\n",
       "    </tr>\n",
       "    <tr>\n",
       "      <th>9290</th>\n",
       "      <td>9993</td>\n",
       "      <td>control</td>\n",
       "      <td>0.00</td>\n",
       "      <td>0</td>\n",
       "      <td>3087.5</td>\n",
       "      <td>3087.5</td>\n",
       "    </tr>\n",
       "    <tr>\n",
       "      <th>2749</th>\n",
       "      <td>9995</td>\n",
       "      <td>variant</td>\n",
       "      <td>0.00</td>\n",
       "      <td>0</td>\n",
       "      <td>3087.5</td>\n",
       "      <td>3087.5</td>\n",
       "    </tr>\n",
       "    <tr>\n",
       "      <th>5915</th>\n",
       "      <td>9996</td>\n",
       "      <td>variant</td>\n",
       "      <td>6.46</td>\n",
       "      <td>1</td>\n",
       "      <td>6295.0</td>\n",
       "      <td>6249.5</td>\n",
       "    </tr>\n",
       "    <tr>\n",
       "      <th>1064</th>\n",
       "      <td>9998</td>\n",
       "      <td>control</td>\n",
       "      <td>0.00</td>\n",
       "      <td>0</td>\n",
       "      <td>3087.5</td>\n",
       "      <td>3087.5</td>\n",
       "    </tr>\n",
       "    <tr>\n",
       "      <th>6883</th>\n",
       "      <td>10000</td>\n",
       "      <td>variant</td>\n",
       "      <td>0.00</td>\n",
       "      <td>0</td>\n",
       "      <td>3087.5</td>\n",
       "      <td>3087.5</td>\n",
       "    </tr>\n",
       "  </tbody>\n",
       "</table>\n",
       "<p>6324 rows × 6 columns</p>\n",
       "</div>"
      ],
      "text/plain": [
       "      USER_ID VARIANT_NAME  REVENUE  BUY  RANK_REVENUE  RANK_CONVERSION\n",
       "2406        2      control     0.00    0        3087.5           3087.5\n",
       "4145        3      variant     0.00    0        3087.5           3087.5\n",
       "9077        4      variant     0.00    0        3087.5           3087.5\n",
       "9155        5      variant     0.00    0        3087.5           3087.5\n",
       "7720        6      variant     0.00    0        3087.5           3087.5\n",
       "...       ...          ...      ...  ...           ...              ...\n",
       "9290     9993      control     0.00    0        3087.5           3087.5\n",
       "2749     9995      variant     0.00    0        3087.5           3087.5\n",
       "5915     9996      variant     6.46    1        6295.0           6249.5\n",
       "1064     9998      control     0.00    0        3087.5           3087.5\n",
       "6883    10000      variant     0.00    0        3087.5           3087.5\n",
       "\n",
       "[6324 rows x 6 columns]"
      ]
     },
     "execution_count": 12,
     "metadata": {},
     "output_type": "execute_result"
    }
   ],
   "source": [
    "df_sorted.loc[:, 'RANK_REVENUE'] = df_sorted['REVENUE'].rank(method='average')\n",
    "df_sorted.loc[:, 'RANK_CONVERSION'] = df_sorted['BUY'].rank(method='average')\n",
    "\n",
    "df_sorted"
   ]
  },
  {
   "cell_type": "code",
   "execution_count": 13,
   "id": "65f4da6d-3819-4fdf-a78c-7dc0d9f3c975",
   "metadata": {},
   "outputs": [],
   "source": [
    "df_control = df_sorted[df_sorted.VARIANT_NAME == 'control'].copy()\n",
    "df_variant = df_sorted[df_sorted.VARIANT_NAME == 'variant'].copy()"
   ]
  },
  {
   "cell_type": "code",
   "execution_count": 14,
   "id": "faedd5da-724f-4d5b-a8b1-8b40c4518c15",
   "metadata": {},
   "outputs": [
    {
     "data": {
      "text/html": [
       "<div>\n",
       "<style scoped>\n",
       "    .dataframe tbody tr th:only-of-type {\n",
       "        vertical-align: middle;\n",
       "    }\n",
       "\n",
       "    .dataframe tbody tr th {\n",
       "        vertical-align: top;\n",
       "    }\n",
       "\n",
       "    .dataframe thead th {\n",
       "        text-align: right;\n",
       "    }\n",
       "</style>\n",
       "<table border=\"1\" class=\"dataframe\">\n",
       "  <thead>\n",
       "    <tr style=\"text-align: right;\">\n",
       "      <th></th>\n",
       "      <th>USER_ID</th>\n",
       "      <th>VARIANT_NAME</th>\n",
       "      <th>REVENUE</th>\n",
       "      <th>BUY</th>\n",
       "      <th>RANK_REVENUE</th>\n",
       "      <th>RANK_CONVERSION</th>\n",
       "    </tr>\n",
       "  </thead>\n",
       "  <tbody>\n",
       "    <tr>\n",
       "      <th>2406</th>\n",
       "      <td>2</td>\n",
       "      <td>control</td>\n",
       "      <td>0.0</td>\n",
       "      <td>0</td>\n",
       "      <td>3087.5</td>\n",
       "      <td>3087.5</td>\n",
       "    </tr>\n",
       "    <tr>\n",
       "      <th>3889</th>\n",
       "      <td>11</td>\n",
       "      <td>control</td>\n",
       "      <td>0.0</td>\n",
       "      <td>0</td>\n",
       "      <td>3087.5</td>\n",
       "      <td>3087.5</td>\n",
       "    </tr>\n",
       "    <tr>\n",
       "      <th>9661</th>\n",
       "      <td>12</td>\n",
       "      <td>control</td>\n",
       "      <td>0.0</td>\n",
       "      <td>0</td>\n",
       "      <td>3087.5</td>\n",
       "      <td>3087.5</td>\n",
       "    </tr>\n",
       "    <tr>\n",
       "      <th>1156</th>\n",
       "      <td>13</td>\n",
       "      <td>control</td>\n",
       "      <td>0.0</td>\n",
       "      <td>0</td>\n",
       "      <td>3087.5</td>\n",
       "      <td>3087.5</td>\n",
       "    </tr>\n",
       "    <tr>\n",
       "      <th>4042</th>\n",
       "      <td>21</td>\n",
       "      <td>control</td>\n",
       "      <td>0.0</td>\n",
       "      <td>0</td>\n",
       "      <td>3087.5</td>\n",
       "      <td>3087.5</td>\n",
       "    </tr>\n",
       "  </tbody>\n",
       "</table>\n",
       "</div>"
      ],
      "text/plain": [
       "      USER_ID VARIANT_NAME  REVENUE  BUY  RANK_REVENUE  RANK_CONVERSION\n",
       "2406        2      control      0.0    0        3087.5           3087.5\n",
       "3889       11      control      0.0    0        3087.5           3087.5\n",
       "9661       12      control      0.0    0        3087.5           3087.5\n",
       "1156       13      control      0.0    0        3087.5           3087.5\n",
       "4042       21      control      0.0    0        3087.5           3087.5"
      ]
     },
     "execution_count": 14,
     "metadata": {},
     "output_type": "execute_result"
    }
   ],
   "source": [
    "df_control.head()"
   ]
  },
  {
   "cell_type": "code",
   "execution_count": 15,
   "id": "ab2a3446-a09a-4769-b538-adc6fb66c2b1",
   "metadata": {},
   "outputs": [
    {
     "data": {
      "text/html": [
       "<div>\n",
       "<style scoped>\n",
       "    .dataframe tbody tr th:only-of-type {\n",
       "        vertical-align: middle;\n",
       "    }\n",
       "\n",
       "    .dataframe tbody tr th {\n",
       "        vertical-align: top;\n",
       "    }\n",
       "\n",
       "    .dataframe thead th {\n",
       "        text-align: right;\n",
       "    }\n",
       "</style>\n",
       "<table border=\"1\" class=\"dataframe\">\n",
       "  <thead>\n",
       "    <tr style=\"text-align: right;\">\n",
       "      <th></th>\n",
       "      <th>USER_ID</th>\n",
       "      <th>VARIANT_NAME</th>\n",
       "      <th>REVENUE</th>\n",
       "      <th>BUY</th>\n",
       "      <th>RANK_REVENUE</th>\n",
       "      <th>RANK_CONVERSION</th>\n",
       "    </tr>\n",
       "  </thead>\n",
       "  <tbody>\n",
       "    <tr>\n",
       "      <th>4145</th>\n",
       "      <td>3</td>\n",
       "      <td>variant</td>\n",
       "      <td>0.0</td>\n",
       "      <td>0</td>\n",
       "      <td>3087.5</td>\n",
       "      <td>3087.5</td>\n",
       "    </tr>\n",
       "    <tr>\n",
       "      <th>9077</th>\n",
       "      <td>4</td>\n",
       "      <td>variant</td>\n",
       "      <td>0.0</td>\n",
       "      <td>0</td>\n",
       "      <td>3087.5</td>\n",
       "      <td>3087.5</td>\n",
       "    </tr>\n",
       "    <tr>\n",
       "      <th>9155</th>\n",
       "      <td>5</td>\n",
       "      <td>variant</td>\n",
       "      <td>0.0</td>\n",
       "      <td>0</td>\n",
       "      <td>3087.5</td>\n",
       "      <td>3087.5</td>\n",
       "    </tr>\n",
       "    <tr>\n",
       "      <th>7720</th>\n",
       "      <td>6</td>\n",
       "      <td>variant</td>\n",
       "      <td>0.0</td>\n",
       "      <td>0</td>\n",
       "      <td>3087.5</td>\n",
       "      <td>3087.5</td>\n",
       "    </tr>\n",
       "    <tr>\n",
       "      <th>3920</th>\n",
       "      <td>9</td>\n",
       "      <td>variant</td>\n",
       "      <td>0.0</td>\n",
       "      <td>0</td>\n",
       "      <td>3087.5</td>\n",
       "      <td>3087.5</td>\n",
       "    </tr>\n",
       "  </tbody>\n",
       "</table>\n",
       "</div>"
      ],
      "text/plain": [
       "      USER_ID VARIANT_NAME  REVENUE  BUY  RANK_REVENUE  RANK_CONVERSION\n",
       "4145        3      variant      0.0    0        3087.5           3087.5\n",
       "9077        4      variant      0.0    0        3087.5           3087.5\n",
       "9155        5      variant      0.0    0        3087.5           3087.5\n",
       "7720        6      variant      0.0    0        3087.5           3087.5\n",
       "3920        9      variant      0.0    0        3087.5           3087.5"
      ]
     },
     "execution_count": 15,
     "metadata": {},
     "output_type": "execute_result"
    }
   ],
   "source": [
    "df_variant.head()"
   ]
  },
  {
   "cell_type": "code",
   "execution_count": 16,
   "id": "e0ff68fe-8a2c-4c66-a7f5-006c50b37e77",
   "metadata": {},
   "outputs": [
    {
     "data": {
      "text/plain": [
       "3128"
      ]
     },
     "execution_count": 16,
     "metadata": {},
     "output_type": "execute_result"
    }
   ],
   "source": [
    "len(df_control)"
   ]
  },
  {
   "cell_type": "code",
   "execution_count": 17,
   "id": "1cec8cd5-c027-4148-96d8-015d3245dded",
   "metadata": {},
   "outputs": [
    {
     "data": {
      "text/plain": [
       "3196"
      ]
     },
     "execution_count": 17,
     "metadata": {},
     "output_type": "execute_result"
    }
   ],
   "source": [
    "len(df_variant)"
   ]
  },
  {
   "cell_type": "markdown",
   "id": "60b71004-1967-4a3f-8dcd-6e9f097327b2",
   "metadata": {},
   "source": [
    "## Any intersection between control and variant groups?"
   ]
  },
  {
   "cell_type": "markdown",
   "id": "5aa5664a-2a93-471f-b2d6-f430f58dfd6c",
   "metadata": {},
   "source": [
    "Having the same users in both the control and variant groups would lead to inaccurate results, as each user would be counted twice, skewing the data. Therefore, before conducting any analysis, we need to remove duplicate users."
   ]
  },
  {
   "cell_type": "code",
   "execution_count": 18,
   "id": "9c650980-0e24-4031-8fb8-1d2c181bcfd8",
   "metadata": {},
   "outputs": [],
   "source": [
    "df_overlap = pd.merge(df_control, df_variant, on=\"USER_ID\").copy()"
   ]
  },
  {
   "cell_type": "code",
   "execution_count": 19,
   "id": "b8b83f33-60ac-4b92-b2d2-4b958ec59480",
   "metadata": {},
   "outputs": [
    {
     "data": {
      "text/html": [
       "<div>\n",
       "<style scoped>\n",
       "    .dataframe tbody tr th:only-of-type {\n",
       "        vertical-align: middle;\n",
       "    }\n",
       "\n",
       "    .dataframe tbody tr th {\n",
       "        vertical-align: top;\n",
       "    }\n",
       "\n",
       "    .dataframe thead th {\n",
       "        text-align: right;\n",
       "    }\n",
       "</style>\n",
       "<table border=\"1\" class=\"dataframe\">\n",
       "  <thead>\n",
       "    <tr style=\"text-align: right;\">\n",
       "      <th></th>\n",
       "      <th>USER_ID</th>\n",
       "      <th>VARIANT_NAME_x</th>\n",
       "      <th>REVENUE_x</th>\n",
       "      <th>BUY_x</th>\n",
       "      <th>RANK_REVENUE_x</th>\n",
       "      <th>RANK_CONVERSION_x</th>\n",
       "      <th>VARIANT_NAME_y</th>\n",
       "      <th>REVENUE_y</th>\n",
       "      <th>BUY_y</th>\n",
       "      <th>RANK_REVENUE_y</th>\n",
       "      <th>RANK_CONVERSION_y</th>\n",
       "    </tr>\n",
       "  </thead>\n",
       "  <tbody>\n",
       "  </tbody>\n",
       "</table>\n",
       "</div>"
      ],
      "text/plain": [
       "Empty DataFrame\n",
       "Columns: [USER_ID, VARIANT_NAME_x, REVENUE_x, BUY_x, RANK_REVENUE_x, RANK_CONVERSION_x, VARIANT_NAME_y, REVENUE_y, BUY_y, RANK_REVENUE_y, RANK_CONVERSION_y]\n",
       "Index: []"
      ]
     },
     "execution_count": 19,
     "metadata": {},
     "output_type": "execute_result"
    }
   ],
   "source": [
    "df_overlap"
   ]
  },
  {
   "cell_type": "markdown",
   "id": "f2163235-2b8f-4826-b942-1f095d1fa4a4",
   "metadata": {},
   "source": [
    "There is no overlap between the control and variant groups, so we can now proceed with the A/B test.\""
   ]
  },
  {
   "cell_type": "markdown",
   "id": "eea0056a-0cb0-4740-929b-342dce0ea4e7",
   "metadata": {},
   "source": [
    "## Signing Up vs. Not Signing Up"
   ]
  },
  {
   "cell_type": "code",
   "execution_count": 20,
   "id": "3dd54c33-a963-487b-b1d4-5874cda9f216",
   "metadata": {},
   "outputs": [
    {
     "data": {
      "text/plain": [
       "{'Control': (3048, 80), 'Variant': (3126, 70)}"
      ]
     },
     "execution_count": 20,
     "metadata": {},
     "output_type": "execute_result"
    }
   ],
   "source": [
    "conversion = {'Control': (sum(df_control.BUY == 0),\n",
    "                         sum(df_control.BUY == 1)),\n",
    "            'Variant': (sum(df_variant.BUY == 0),\n",
    "                         sum(df_variant.BUY == 1))}\n",
    "conversion"
   ]
  },
  {
   "cell_type": "code",
   "execution_count": 21,
   "id": "ed9fbe0c-7ee8-4bad-8d8a-d7533e800d13",
   "metadata": {},
   "outputs": [
    {
     "data": {
      "image/png": "[encoded data removed]",
      "text/plain": [
       "<Figure size 640x480 with 1 Axes>"
      ]
     },
     "metadata": {},
     "output_type": "display_data"
    }
   ],
   "source": [
    "x = np.arange(2)  # the label locations\n",
    "width = 0.25  # the width of the bars\n",
    "multiplier = 0\n",
    "\n",
    "fig, ax = plt.subplots(layout='constrained')\n",
    "\n",
    "for attribute, measurement in conversion.items():\n",
    "    offset = width * multiplier\n",
    "    rects = ax.bar(x + offset, measurement, width, label=attribute)\n",
    "    ax.bar_label(rects, padding=3)\n",
    "    multiplier += 1\n",
    "\n",
    "# Add some text for labels, title and custom x-axis tick labels, etc.\n",
    "ax.set_ylabel('Counts')\n",
    "ax.set_title('Membership Sign-ups')\n",
    "ax.set_xticks(x + width/2, ['Not Signing Up', 'Signing up'])\n",
    "ax.legend(loc='upper right', ncols=3)\n",
    "#ax.set_ylim(0, 250)\n",
    "\n",
    "plt.show()"
   ]
  },
  {
   "cell_type": "markdown",
   "id": "373c3492-27b7-4b59-b31e-18c93785f94f",
   "metadata": {},
   "source": [
    "## Metric"
   ]
  },
  {
   "cell_type": "markdown",
   "id": "8680ec3e-8e0d-4621-8728-599b0de1c6ac",
   "metadata": {},
   "source": [
    "There are two ways to conduct an A/B test, depending on the metric used:\n",
    "\n",
    "- Conversions refer to any action taken online that aligns with a business’s goals, such as filling out a form, making a purchase, or completing a survey.\n",
    "- Revenue is a continuous metric that directly impacts the business's bottom line.\n",
    "\n",
    "We first consider conversion rate, which represents the number of conversions occurring within a given timeframe and is typically expressed as a percentage. For example, if 100 visitors visit a website and 10 make a purchase, the conversion rate is 10%. This metric helps businesses understand how effectively their website converts visitors into customers."
   ]
  },
  {
   "cell_type": "markdown",
   "id": "cf4fc9ae-bc43-4c13-8630-c5aa370ef0c1",
   "metadata": {},
   "source": [
    "## Normality test"
   ]
  },
  {
   "cell_type": "code",
   "execution_count": 22,
   "id": "5f57236d-e0c4-4150-9c37-c76fef643985",
   "metadata": {},
   "outputs": [],
   "source": [
    "def normal_test(data):\n",
    "    stat, p = normaltest(data)\n",
    "    print('Statistics=%.3f, p=%.3f' % (stat, p))\n",
    "    alpha = 0.05\n",
    "    if p > alpha:\n",
    "        print('Sample looks Gaussian (fail to reject H0)')\n",
    "    else:\n",
    "        print('Sample does not look Gaussian (reject H0)')"
   ]
  },
  {
   "cell_type": "code",
   "execution_count": 23,
   "id": "23310f33-af82-45ce-89a1-c3054dd70e09",
   "metadata": {},
   "outputs": [
    {
     "name": "stdout",
     "output_type": "stream",
     "text": [
      "Statistics=8273.628, p=0.000\n",
      "Sample does not look Gaussian (reject H0)\n"
     ]
    }
   ],
   "source": [
    "normal_test(df_variant.REVENUE)"
   ]
  },
  {
   "cell_type": "code",
   "execution_count": 24,
   "id": "26ee896b-61ab-46da-8a32-3e3dbf20e05f",
   "metadata": {},
   "outputs": [
    {
     "name": "stdout",
     "output_type": "stream",
     "text": [
      "Statistics=3781.952, p=0.000\n",
      "Sample does not look Gaussian (reject H0)\n"
     ]
    }
   ],
   "source": [
    "normal_test(df_variant.BUY)"
   ]
  },
  {
   "cell_type": "markdown",
   "id": "05fdfb57-5c6c-415a-b788-c65e8951d668",
   "metadata": {},
   "source": [
    "## A/B testing"
   ]
  },
  {
   "cell_type": "markdown",
   "id": "2f9bbc34-8141-4a3a-a683-752d41d8406d",
   "metadata": {},
   "source": [
    "For continuous metric, the Z-statistic is computed as:\n",
    "\n",
    "$$ Z = \\frac{\\bar{X_1} - \\bar{X_2}}{\\sqrt{\\frac{\\sigma_1^2}{n_1} + \\frac{\\sigma_2^2}{n_2}}} $$\n",
    "\n",
    "where \n",
    "$$\\bar{X_1} \\hspace{1mm} \\text{and} \\hspace{1mm} \\bar{X_2} \\hspace{1mm} \\text{are sample means}$$ \n",
    "$$\\sigma_1 \\hspace{1mm} \\text{and} \\hspace{1mm} \\sigma_2 \\hspace{1mm} \\text{are sample standard deviation}$$\n",
    "$$n_1 \\hspace{1mm} \\text{and} \\hspace{1mm} n_2 \\hspace{1mm} \\text{are number of observations}$$ \n",
    "\n",
    "If we consider the conversion metric, the Z-statistic is computed as:\n",
    "\n",
    "$$ Z = \\frac{p_1 - p_2}{\\sqrt{\\frac{p_1 \\cdot (1 - p_1)}{n_1} + \\frac{p_2 \\cdot (1 - p_2)}{n_2}}} $$\n",
    "\n",
    "where\n",
    "$$p_1 \\hspace{1mm} \\text{and} \\hspace{1mm} p_2 \\hspace{1mm} \\text{are conversion rates in the control and variant groups, respectively}$$ \n",
    "$$n_1 \\hspace{1mm} \\text{and} \\hspace{1mm} n_2 \\hspace{1mm} \\text{are number of observations}$$ "
   ]
  },
  {
   "cell_type": "code",
   "execution_count": 25,
   "id": "852d3732-5a43-4e19-87ac-4555c3648b11",
   "metadata": {},
   "outputs": [
    {
     "data": {
      "text/plain": [
       "3128"
      ]
     },
     "execution_count": 25,
     "metadata": {},
     "output_type": "execute_result"
    }
   ],
   "source": [
    "len(df_control)"
   ]
  },
  {
   "cell_type": "markdown",
   "id": "ea70681e-9d6d-4642-ac08-001db2de4c1f",
   "metadata": {},
   "source": [
    "## Conversion rate"
   ]
  },
  {
   "cell_type": "code",
   "execution_count": 26,
   "id": "ce5ace3c-ac66-4595-9186-2cd332fb6598",
   "metadata": {},
   "outputs": [],
   "source": [
    "p1 = len(df_control[df_control.REVENUE > 0])/len(df_control)\n",
    "p2 = len(df_variant[df_variant.REVENUE > 0])/len(df_variant)"
   ]
  },
  {
   "cell_type": "code",
   "execution_count": 27,
   "id": "99a72c7a-a165-41c7-bf95-6200de4c477d",
   "metadata": {},
   "outputs": [],
   "source": [
    "n1 = len(df_control)\n",
    "n2 = len(df_variant)"
   ]
  },
  {
   "cell_type": "code",
   "execution_count": 28,
   "id": "12ee2d48-ac0d-4cbc-92da-fa704749c22e",
   "metadata": {},
   "outputs": [
    {
     "data": {
      "text/plain": [
       "3196"
      ]
     },
     "execution_count": 28,
     "metadata": {},
     "output_type": "execute_result"
    }
   ],
   "source": [
    "n2"
   ]
  },
  {
   "cell_type": "code",
   "execution_count": 29,
   "id": "7c0b567c-e9a7-43e7-bd88-f6f26b0712a9",
   "metadata": {},
   "outputs": [
    {
     "data": {
      "text/plain": [
       "0.9589853830475675"
      ]
     },
     "execution_count": 29,
     "metadata": {},
     "output_type": "execute_result"
    }
   ],
   "source": [
    "z_conversion = (p1 - p2)/np.sqrt((p1*(1-p1)/n1) + (p2*(1-p2)/n2))\n",
    "z_conversion"
   ]
  },
  {
   "cell_type": "code",
   "execution_count": 30,
   "id": "d0cb64ab-c2a1-4e65-875f-a697968b53ea",
   "metadata": {},
   "outputs": [
    {
     "data": {
      "text/plain": [
       "0.8312169455759235"
      ]
     },
     "execution_count": 30,
     "metadata": {},
     "output_type": "execute_result"
    }
   ],
   "source": [
    "p_conversion_left = stats.norm.cdf(z_conversion)\n",
    "p_conversion_left"
   ]
  },
  {
   "cell_type": "code",
   "execution_count": 31,
   "id": "ffae77ec-6056-402f-ba2b-dd897ba7c5f4",
   "metadata": {},
   "outputs": [
    {
     "data": {
      "text/plain": [
       "0.16878305442407648"
      ]
     },
     "execution_count": 31,
     "metadata": {},
     "output_type": "execute_result"
    }
   ],
   "source": [
    "p_conversion_right = 1 - stats.norm.cdf(z_conversion)\n",
    "p_conversion_right"
   ]
  },
  {
   "cell_type": "code",
   "execution_count": 32,
   "id": "1ea3a81c-4282-4525-8120-02a95f5107fb",
   "metadata": {},
   "outputs": [
    {
     "data": {
      "text/plain": [
       "0.33756610884815286"
      ]
     },
     "execution_count": 32,
     "metadata": {},
     "output_type": "execute_result"
    }
   ],
   "source": [
    "p_conversion_two_tails = 2 * stats.norm.cdf(-abs(z_conversion))\n",
    "p_conversion_two_tails"
   ]
  },
  {
   "cell_type": "code",
   "execution_count": 33,
   "id": "27770368-812c-4586-ba33-138e040737cd",
   "metadata": {},
   "outputs": [],
   "source": [
    "t_conversion = z_conversion"
   ]
  },
  {
   "cell_type": "code",
   "execution_count": 34,
   "id": "6c728e58-8061-4d98-9e9c-6243020e80d6",
   "metadata": {},
   "outputs": [
    {
     "data": {
      "text/plain": [
       "1.7395792012806683"
      ]
     },
     "execution_count": 34,
     "metadata": {},
     "output_type": "execute_result"
    }
   ],
   "source": [
    "p_t_conversion_left = stats.t.ppf(t_conversion, n2 - 1)\n",
    "p_t_conversion_left "
   ]
  },
  {
   "cell_type": "markdown",
   "id": "357a908c-d3b8-4771-8e2f-7c14c813d9d0",
   "metadata": {},
   "source": [
    "## Revenue"
   ]
  },
  {
   "cell_type": "code",
   "execution_count": 35,
   "id": "09fb9c22-6b16-49e1-a61d-a5c831b9467a",
   "metadata": {},
   "outputs": [],
   "source": [
    "X1 = np.mean(df_control.REVENUE)\n",
    "X2 = np.mean(df_variant.REVENUE)"
   ]
  },
  {
   "cell_type": "code",
   "execution_count": 36,
   "id": "f597c198-9fda-4ba0-9c99-94d5a8b8a0fd",
   "metadata": {},
   "outputs": [],
   "source": [
    "s1 = np.std(df_control.REVENUE)\n",
    "s2 = np.std(df_variant.REVENUE)"
   ]
  },
  {
   "cell_type": "code",
   "execution_count": 37,
   "id": "4fb7a691-f3d2-4101-a8a2-e671a6c440e9",
   "metadata": {},
   "outputs": [
    {
     "data": {
      "text/plain": [
       "1.305604296104093"
      ]
     },
     "execution_count": 37,
     "metadata": {},
     "output_type": "execute_result"
    }
   ],
   "source": [
    "z_revenue = (X1 - X2)/np.sqrt(s1**2/n1 + s2**2/n2)\n",
    "z_revenue"
   ]
  },
  {
   "cell_type": "code",
   "execution_count": 38,
   "id": "dff0cfd2-9270-4013-ac29-c74fb93f645b",
   "metadata": {},
   "outputs": [
    {
     "data": {
      "text/plain": [
       "0.9041564206889346"
      ]
     },
     "execution_count": 38,
     "metadata": {},
     "output_type": "execute_result"
    }
   ],
   "source": [
    "p_revenue_left = stats.norm.cdf(z_revenue)\n",
    "p_revenue_left"
   ]
  },
  {
   "cell_type": "code",
   "execution_count": 39,
   "id": "0a417857-6d75-4b5d-9dfc-5d28e9847273",
   "metadata": {},
   "outputs": [
    {
     "data": {
      "text/plain": [
       "0.09584357931106535"
      ]
     },
     "execution_count": 39,
     "metadata": {},
     "output_type": "execute_result"
    }
   ],
   "source": [
    "p_revenue_right = 1 - stats.norm.cdf(z_revenue)\n",
    "p_revenue_right"
   ]
  },
  {
   "cell_type": "code",
   "execution_count": 40,
   "id": "d96f2e5e-66ea-40ed-ac3a-980cc8130c42",
   "metadata": {},
   "outputs": [
    {
     "data": {
      "text/plain": [
       "0.1916871586221307"
      ]
     },
     "execution_count": 40,
     "metadata": {},
     "output_type": "execute_result"
    }
   ],
   "source": [
    "p_revenue_two_tails = 2 * stats.norm.cdf(-abs(z_revenue))\n",
    "p_revenue_two_tails"
   ]
  },
  {
   "cell_type": "markdown",
   "id": "edf3334b-622a-46cc-93e0-fb8049333678",
   "metadata": {},
   "source": [
    "## Mann Whitney U Test/ Wilcoxon rank sum test"
   ]
  },
  {
   "cell_type": "markdown",
   "id": "8da18d7d-b56b-425f-a7bb-e1beaff5a71a",
   "metadata": {},
   "source": [
    "The Mann-Whitney U test is equivalent to an independent t-test. It does not assume normality and works well with small sample sizes.\n",
    "\n",
    "Steps for Mann Whitney U Test:\n",
    "\n",
    "1. Collect two independent samples.\n",
    "2. Rank the data from smallest to largest across both groups. If two observations have the same value, assign them the average rank.\n",
    "3. Sum the ranks for each sample (denoted as $R_1$ and $R_2$)\n",
    "4. Calculate the U-statistics:\n",
    "\n",
    "$$ U_1 = n_1 n_2 + \\frac{n_1(n_1 + 1)}{2} - R_1 $$\n",
    "\n",
    "$$ U_2 = n_1 n_2 + \\frac{n_2(n_2 + 1)}{2} - R_2 $$\n",
    "\n",
    "where \n",
    "- $n_1$ and $n_2$ are sample sizes for the two groups\n",
    "- $R_1$ and $R_2$ are the rank sums of each group\n",
    "\n",
    "The final U-statistics is the smallest value of $U_1$ and $U_2$.\n",
    "\n",
    "5. Compare U to the critical value from the Mann-Whitney U Table at the chosen significance level (e.g. 0.05)\n",
    "6. Decision rules:\n",
    "- If $U \\le U_0$, rejects the null hypothesis.\n",
    "- Else, do not reject the null hypothesis."
   ]
  },
  {
   "cell_type": "code",
   "execution_count": 41,
   "id": "3d900e18-6eb9-483d-978e-f6944983aee9",
   "metadata": {},
   "outputs": [
    {
     "data": {
      "text/html": [
       "<div>\n",
       "<style scoped>\n",
       "    .dataframe tbody tr th:only-of-type {\n",
       "        vertical-align: middle;\n",
       "    }\n",
       "\n",
       "    .dataframe tbody tr th {\n",
       "        vertical-align: top;\n",
       "    }\n",
       "\n",
       "    .dataframe thead th {\n",
       "        text-align: right;\n",
       "    }\n",
       "</style>\n",
       "<table border=\"1\" class=\"dataframe\">\n",
       "  <thead>\n",
       "    <tr style=\"text-align: right;\">\n",
       "      <th></th>\n",
       "      <th>USER_ID</th>\n",
       "      <th>VARIANT_NAME</th>\n",
       "      <th>REVENUE</th>\n",
       "      <th>BUY</th>\n",
       "      <th>RANK_REVENUE</th>\n",
       "      <th>RANK_CONVERSION</th>\n",
       "    </tr>\n",
       "  </thead>\n",
       "  <tbody>\n",
       "    <tr>\n",
       "      <th>2406</th>\n",
       "      <td>2</td>\n",
       "      <td>control</td>\n",
       "      <td>0.0</td>\n",
       "      <td>0</td>\n",
       "      <td>3087.5</td>\n",
       "      <td>3087.5</td>\n",
       "    </tr>\n",
       "    <tr>\n",
       "      <th>3889</th>\n",
       "      <td>11</td>\n",
       "      <td>control</td>\n",
       "      <td>0.0</td>\n",
       "      <td>0</td>\n",
       "      <td>3087.5</td>\n",
       "      <td>3087.5</td>\n",
       "    </tr>\n",
       "    <tr>\n",
       "      <th>9661</th>\n",
       "      <td>12</td>\n",
       "      <td>control</td>\n",
       "      <td>0.0</td>\n",
       "      <td>0</td>\n",
       "      <td>3087.5</td>\n",
       "      <td>3087.5</td>\n",
       "    </tr>\n",
       "    <tr>\n",
       "      <th>1156</th>\n",
       "      <td>13</td>\n",
       "      <td>control</td>\n",
       "      <td>0.0</td>\n",
       "      <td>0</td>\n",
       "      <td>3087.5</td>\n",
       "      <td>3087.5</td>\n",
       "    </tr>\n",
       "    <tr>\n",
       "      <th>4042</th>\n",
       "      <td>21</td>\n",
       "      <td>control</td>\n",
       "      <td>0.0</td>\n",
       "      <td>0</td>\n",
       "      <td>3087.5</td>\n",
       "      <td>3087.5</td>\n",
       "    </tr>\n",
       "    <tr>\n",
       "      <th>...</th>\n",
       "      <td>...</td>\n",
       "      <td>...</td>\n",
       "      <td>...</td>\n",
       "      <td>...</td>\n",
       "      <td>...</td>\n",
       "      <td>...</td>\n",
       "    </tr>\n",
       "    <tr>\n",
       "      <th>1755</th>\n",
       "      <td>9980</td>\n",
       "      <td>control</td>\n",
       "      <td>0.0</td>\n",
       "      <td>0</td>\n",
       "      <td>3087.5</td>\n",
       "      <td>3087.5</td>\n",
       "    </tr>\n",
       "    <tr>\n",
       "      <th>1848</th>\n",
       "      <td>9989</td>\n",
       "      <td>control</td>\n",
       "      <td>0.0</td>\n",
       "      <td>0</td>\n",
       "      <td>3087.5</td>\n",
       "      <td>3087.5</td>\n",
       "    </tr>\n",
       "    <tr>\n",
       "      <th>3260</th>\n",
       "      <td>9992</td>\n",
       "      <td>control</td>\n",
       "      <td>0.0</td>\n",
       "      <td>0</td>\n",
       "      <td>3087.5</td>\n",
       "      <td>3087.5</td>\n",
       "    </tr>\n",
       "    <tr>\n",
       "      <th>9290</th>\n",
       "      <td>9993</td>\n",
       "      <td>control</td>\n",
       "      <td>0.0</td>\n",
       "      <td>0</td>\n",
       "      <td>3087.5</td>\n",
       "      <td>3087.5</td>\n",
       "    </tr>\n",
       "    <tr>\n",
       "      <th>1064</th>\n",
       "      <td>9998</td>\n",
       "      <td>control</td>\n",
       "      <td>0.0</td>\n",
       "      <td>0</td>\n",
       "      <td>3087.5</td>\n",
       "      <td>3087.5</td>\n",
       "    </tr>\n",
       "  </tbody>\n",
       "</table>\n",
       "<p>3128 rows × 6 columns</p>\n",
       "</div>"
      ],
      "text/plain": [
       "      USER_ID VARIANT_NAME  REVENUE  BUY  RANK_REVENUE  RANK_CONVERSION\n",
       "2406        2      control      0.0    0        3087.5           3087.5\n",
       "3889       11      control      0.0    0        3087.5           3087.5\n",
       "9661       12      control      0.0    0        3087.5           3087.5\n",
       "1156       13      control      0.0    0        3087.5           3087.5\n",
       "4042       21      control      0.0    0        3087.5           3087.5\n",
       "...       ...          ...      ...  ...           ...              ...\n",
       "1755     9980      control      0.0    0        3087.5           3087.5\n",
       "1848     9989      control      0.0    0        3087.5           3087.5\n",
       "3260     9992      control      0.0    0        3087.5           3087.5\n",
       "9290     9993      control      0.0    0        3087.5           3087.5\n",
       "1064     9998      control      0.0    0        3087.5           3087.5\n",
       "\n",
       "[3128 rows x 6 columns]"
      ]
     },
     "execution_count": 41,
     "metadata": {},
     "output_type": "execute_result"
    }
   ],
   "source": [
    "df_control"
   ]
  },
  {
   "cell_type": "code",
   "execution_count": 42,
   "id": "83ed33e0-3802-4402-9f3f-4493d5031c06",
   "metadata": {},
   "outputs": [],
   "source": [
    "R1_conversion = sum(df_control.RANK_CONVERSION)\n",
    "R2_conversion = sum(df_variant.RANK_CONVERSION)"
   ]
  },
  {
   "cell_type": "code",
   "execution_count": 43,
   "id": "adead609-e9f2-427e-9bc4-8fcb730fe10d",
   "metadata": {},
   "outputs": [],
   "source": [
    "n1 = len(df_control)\n",
    "n2 = len(df_variant)"
   ]
  },
  {
   "cell_type": "code",
   "execution_count": 44,
   "id": "17047262-f5ad-48fd-81a9-697766493633",
   "metadata": {},
   "outputs": [
    {
     "data": {
      "text/plain": [
       "3128"
      ]
     },
     "execution_count": 44,
     "metadata": {},
     "output_type": "execute_result"
    }
   ],
   "source": [
    "n1"
   ]
  },
  {
   "cell_type": "code",
   "execution_count": 45,
   "id": "2d0ef68f-29d8-4853-a61c-e1a4f04433ec",
   "metadata": {},
   "outputs": [
    {
     "data": {
      "text/plain": [
       "4980184.0"
      ]
     },
     "execution_count": 45,
     "metadata": {},
     "output_type": "execute_result"
    }
   ],
   "source": [
    "U1_conversion = n1*n2 + (n1*(n1 + 1)/2) - R1_conversion\n",
    "U2_conversion = n1*n2 + (n2*(n2 + 1)/2) - R2_conversion\n",
    "U_conversion = min(U1_conversion, U2_conversion)\n",
    "U_conversion"
   ]
  },
  {
   "cell_type": "code",
   "execution_count": 46,
   "id": "5d290d8a-21c6-4707-81a0-9352d6ac92f4",
   "metadata": {},
   "outputs": [
    {
     "data": {
      "text/plain": [
       "'\\nstatistic, p_value = mannwhitneyu(df_control.BUY, df_variant.BUY, alternative=\\'greater\\')\\n\\n# Print the results\\nprint(f\"Mann-Whitney U statistic: {statistic}\")\\nprint(f\"P-value: {p_value}\")\\n\\n'"
      ]
     },
     "execution_count": 46,
     "metadata": {},
     "output_type": "execute_result"
    }
   ],
   "source": [
    "'''\n",
    "statistic, p_value = mannwhitneyu(df_control.BUY, df_variant.BUY, alternative='greater')\n",
    "\n",
    "# Print the results\n",
    "print(f\"Mann-Whitney U statistic: {statistic}\")\n",
    "print(f\"P-value: {p_value}\")\n",
    "\n",
    "'''"
   ]
  },
  {
   "cell_type": "code",
   "execution_count": 47,
   "id": "4d46e030-452a-4bc7-b923-696ac121a284",
   "metadata": {},
   "outputs": [
    {
     "data": {
      "text/plain": [
       "'\\nstatistic, p_value = mannwhitneyu(df_control.REVENUE, df_variant.REVENUE, alternative=\\'less\\')\\n\\n# Print the results\\nprint(f\"Mann-Whitney U statistic: {statistic}\")\\nprint(f\"P-value: {p_value}\")\\n'"
      ]
     },
     "execution_count": 47,
     "metadata": {},
     "output_type": "execute_result"
    }
   ],
   "source": [
    "'''\n",
    "statistic, p_value = mannwhitneyu(df_control.REVENUE, df_variant.REVENUE, alternative='less')\n",
    "\n",
    "# Print the results\n",
    "print(f\"Mann-Whitney U statistic: {statistic}\")\n",
    "print(f\"P-value: {p_value}\")\n",
    "'''"
   ]
  },
  {
   "cell_type": "code",
   "execution_count": 48,
   "id": "73c37320-6c03-424c-a72b-694577c0e40a",
   "metadata": {},
   "outputs": [
    {
     "data": {
      "text/plain": [
       "'\\nimport numpy as np\\nfrom scipy.stats import mannwhitneyu, norm\\n\\n# Sample data\\ngroup1 = np.array([20, 23, 26, 28, 30])\\ngroup2 = np.array([22, 24, 28, 32, 35])\\n\\n# Perform Mann-Whitney U test\\nu_statistic, p_value = mannwhitneyu(group1, group2, alternative=\\'two-sided\\')\\n\\n# Calculate the z-score\\nn1 = len(group1)\\nn2 = len(group2)\\nu_mean = n1 * n2 / 2\\nu_std = np.sqrt(n1 * n2 * (n1 + n2 + 1) / 12)\\nz_score = (u_statistic - u_mean) / u_std\\n\\n# Calculate the CDF value\\ncdf_value = norm.cdf(z_score)\\n\\nprint(\"U Statistic:\", u_statistic)\\nprint(\"P-value:\", p_value)\\nprint(\"Z-score:\", z_score)\\nprint(\"CDF Value:\", cdf_value)\\n'"
      ]
     },
     "execution_count": 48,
     "metadata": {},
     "output_type": "execute_result"
    }
   ],
   "source": [
    "'''\n",
    "import numpy as np\n",
    "from scipy.stats import mannwhitneyu, norm\n",
    "\n",
    "# Sample data\n",
    "group1 = np.array([20, 23, 26, 28, 30])\n",
    "group2 = np.array([22, 24, 28, 32, 35])\n",
    "\n",
    "# Perform Mann-Whitney U test\n",
    "u_statistic, p_value = mannwhitneyu(group1, group2, alternative='two-sided')\n",
    "\n",
    "# Calculate the z-score\n",
    "n1 = len(group1)\n",
    "n2 = len(group2)\n",
    "u_mean = n1 * n2 / 2\n",
    "u_std = np.sqrt(n1 * n2 * (n1 + n2 + 1) / 12)\n",
    "z_score = (u_statistic - u_mean) / u_std\n",
    "\n",
    "# Calculate the CDF value\n",
    "cdf_value = norm.cdf(z_score)\n",
    "\n",
    "print(\"U Statistic:\", u_statistic)\n",
    "print(\"P-value:\", p_value)\n",
    "print(\"Z-score:\", z_score)\n",
    "print(\"CDF Value:\", cdf_value)\n",
    "'''"
   ]
  },
  {
   "cell_type": "code",
   "execution_count": 49,
   "id": "5c54a548-3d09-4493-94ed-93ec0db50bf0",
   "metadata": {},
   "outputs": [
    {
     "data": {
      "text/plain": [
       "3196"
      ]
     },
     "execution_count": 49,
     "metadata": {},
     "output_type": "execute_result"
    }
   ],
   "source": [
    "n2"
   ]
  },
  {
   "cell_type": "markdown",
   "id": "73738af6-6f8a-48b7-aad1-7543a26503ef",
   "metadata": {},
   "source": [
    "## Compute p value from Mann  U Test"
   ]
  },
  {
   "cell_type": "markdown",
   "id": "0bd41e8e-549c-423b-abe1-9660d8bb260d",
   "metadata": {},
   "source": [
    "For small sample sizes, the exact distribution of U can be calculated, and the p-value can be determined directly from the CDF. However, for larger sample sizes, the distribution of U can be approximated by a normal distribution, and the p-value can be calculated using the standard normal CDF.\n",
    "\n",
    "Expected value of U:\n",
    "\n",
    "$$\\mu_U = \\frac{n_1 \\cdot n_2}{2}$$\n",
    "\n",
    "Standard error of U:\n",
    "\n",
    "$$\\sigma_U = \\sqrt{\\frac{n_1 \\cdot n_2 \\cdot (n_1 + n_2 + 1)}{12}}$$\n",
    "\n",
    "z-value is:\n",
    "\n",
    "$$z = \\frac{U - \\mu_U}{\\sigma_U}$$\n",
    "\n",
    "The p-value can be obtained this way."
   ]
  },
  {
   "cell_type": "code",
   "execution_count": 56,
   "id": "e785a9e1-d64b-4f98-9354-fa957a381c02",
   "metadata": {},
   "outputs": [],
   "source": [
    "def p_val_computation(U, n1, n2, method:str):\n",
    "    mu_u = n1*n2/2\n",
    "    s_u = np.sqrt(n1*n2*(n1 + n2 + 1)/12)\n",
    "    z = (U - mu_u)/s_u\n",
    "    if method == 'right':\n",
    "        p = 1 - stats.norm.cdf(z)\n",
    "    elif method == 'left':\n",
    "        p = stats.norm.cdf(z)\n",
    "    elif method == 'two-tailed':\n",
    "        p = 2 * stats.norm.cdf(-abs(z_conversion))\n",
    "\n",
    "    return p"
   ]
  },
  {
   "cell_type": "code",
   "execution_count": 57,
   "id": "71516d70-df85-46f2-8fa2-8de167793f55",
   "metadata": {},
   "outputs": [
    {
     "data": {
      "text/plain": [
       "0.33756610884815286"
      ]
     },
     "execution_count": 57,
     "metadata": {},
     "output_type": "execute_result"
    }
   ],
   "source": [
    "p_val_computation(U_conversion, n1, n2, 'two-tailed')"
   ]
  },
  {
   "cell_type": "code",
   "execution_count": 58,
   "id": "0748b6d2-940e-409a-9796-71bc88e83fb5",
   "metadata": {},
   "outputs": [
    {
     "data": {
      "text/plain": [
       "0.5998379317241425"
      ]
     },
     "execution_count": 58,
     "metadata": {},
     "output_type": "execute_result"
    }
   ],
   "source": [
    "p_val_computation(U_conversion, n1, n2, 'right')"
   ]
  },
  {
   "cell_type": "code",
   "execution_count": 61,
   "id": "810c740a-ef21-47a8-9986-faccb66481b4",
   "metadata": {},
   "outputs": [
    {
     "name": "stdout",
     "output_type": "stream",
     "text": [
      "9911085.0\n",
      "10088565.0\n"
     ]
    },
    {
     "data": {
      "text/plain": [
       "4979759.0"
      ]
     },
     "execution_count": 61,
     "metadata": {},
     "output_type": "execute_result"
    }
   ],
   "source": [
    "R1_revenue = sum(df_control.RANK_REVENUE)\n",
    "R2_revenue = sum(df_variant.RANK_REVENUE)\n",
    "print(R1_revenue)\n",
    "print(R2_revenue)\n",
    "\n",
    "U1_revenue = n1*n2 + (n1*(n1 + 1)/2) - R1_revenue\n",
    "U2_revenue = n1*n2 + (n2*(n2 + 1)/2) - R2_revenue\n",
    "U_revenue = min(U1_revenue, U2_revenue)\n",
    "U_revenue"
   ]
  },
  {
   "cell_type": "code",
   "execution_count": 62,
   "id": "35198919-5876-4073-bee1-4027fed0c9af",
   "metadata": {},
   "outputs": [
    {
     "data": {
      "text/plain": [
       "0.33756610884815286"
      ]
     },
     "execution_count": 62,
     "metadata": {},
     "output_type": "execute_result"
    }
   ],
   "source": [
    "p_val_computation(U_revenue, n1, n2, 'two-tailed')"
   ]
  },
  {
   "cell_type": "code",
   "execution_count": 64,
   "id": "58f60301-f388-4abd-9513-e79520f865ed",
   "metadata": {},
   "outputs": [
    {
     "data": {
      "text/plain": [
       "0.6020984455506847"
      ]
     },
     "execution_count": 64,
     "metadata": {},
     "output_type": "execute_result"
    }
   ],
   "source": [
    "p_val_computation(U_revenue, n1, n2, 'right')"
   ]
  },
  {
   "cell_type": "code",
   "execution_count": null,
   "id": "002431a7-85f3-4fab-a36e-d04ee6941a7e",
   "metadata": {},
   "outputs": [],
   "source": []
  }
 ],
 "metadata": {
  "kernelspec": {
   "display_name": "python_prep",
   "language": "python",
   "name": "python_prep"
  },
  "language_info": {
   "codemirror_mode": {
    "name": "ipython",
    "version": 3
   },
   "file_extension": ".py",
   "mimetype": "text/x-python",
   "name": "python",
   "nbconvert_exporter": "python",
   "pygments_lexer": "ipython3",
   "version": "3.12.3"
  }
 },
 "nbformat": 4,
 "nbformat_minor": 5
}
